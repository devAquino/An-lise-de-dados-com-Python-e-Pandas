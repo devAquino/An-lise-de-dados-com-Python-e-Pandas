{
  "nbformat": 4,
  "nbformat_minor": 0,
  "metadata": {
    "colab": {
      "name": "Estatística.ipynb",
      "provenance": [],
      "collapsed_sections": [],
      "toc_visible": true,
      "mount_file_id": "1seARbQ1qha5Th9XnrXmQzCGhyE7hkxIf",
      "authorship_tag": "ABX9TyNT5ycR29dF5EN1GDAcUpI+",
      "include_colab_link": true
    },
    "kernelspec": {
      "name": "python3",
      "display_name": "Python 3"
    },
    "accelerator": "GPU"
  },
  "cells": [
    {
      "cell_type": "markdown",
      "metadata": {
        "id": "view-in-github",
        "colab_type": "text"
      },
      "source": [
        "<a href=\"https://colab.research.google.com/github/devAquino/Analise-de-dados-com-Python-e-Pandas/blob/main/Estat%C3%ADstica.ipynb\" target=\"_parent\"><img src=\"https://colab.research.google.com/assets/colab-badge.svg\" alt=\"Open In Colab\"/></a>"
      ]
    },
    {
      "cell_type": "markdown",
      "metadata": {
        "id": "UrhDxWVsXb89"
      },
      "source": [
        "# Explorando um conjunto de dados (temperaturas)\n"
      ]
    },
    {
      "cell_type": "code",
      "metadata": {
        "id": "9ngG_EsmeWlm"
      },
      "source": [
        "import pandas as pd\n",
        "import numpy as np\n",
        "from math import log"
      ],
      "execution_count": null,
      "outputs": []
    },
    {
      "cell_type": "code",
      "metadata": {
        "id": "Ax2QsueFdiwo"
      },
      "source": [
        "temperatura = [98.60,98.60,98.00,98.00,99.00,98.40,98.40,98.40,98.40,98.60,98.60,98.80,98.60,97.00,97.00,98.80,97.60,97.70,98.80,98.00,98.00,98.30,98.50,97.30,98.70,97.40,98.90,98.60,99.50,97.50,97.30,97.60,88.20,99.60,98.70,99.40,98.20,98.00,98.60,98.60,97.20,98.40,98.60,98.20,98.00,97.80,98.00,98.40,98.60,98.60,97.80,99.00,96.50,97.60,98.00,96.90,97.60,97.10,97.90,98.40,97.30,98.00,97.50,97.60,98.20,98.50,98.80,98.70,97.80,98.00,97.10,97.40,99.40,98.40,98.60,98.40,98.50,98.60,98.30,98.70,98.80,99.10,98.60,97.90,98.80,98.00,98.70,98.50,98.90,98.40,98.60,97.10,97.90,98.80,98.70,97.60,98.20,99.20,97.80,98.00,98.40,97.80,98.40,97.40,98.00,97.00]"
      ],
      "execution_count": null,
      "outputs": []
    },
    {
      "cell_type": "markdown",
      "metadata": {
        "id": "ozldsxpNlTjM"
      },
      "source": [
        "Ordenando a lista em ordem crescente\n"
      ]
    },
    {
      "cell_type": "code",
      "metadata": {
        "id": "egLBlecbg4Kl",
        "colab": {
          "base_uri": "https://localhost:8080/"
        },
        "outputId": "5b65aa61-45cd-4a9a-b296-da64a81ac642"
      },
      "source": [
        "temperatura.sort()\n",
        "print(temperatura, end=\" \")\n"
      ],
      "execution_count": null,
      "outputs": [
        {
          "output_type": "stream",
          "text": [
            "[88.2, 96.5, 96.9, 97.0, 97.0, 97.0, 97.1, 97.1, 97.1, 97.2, 97.3, 97.3, 97.3, 97.4, 97.4, 97.4, 97.5, 97.5, 97.6, 97.6, 97.6, 97.6, 97.6, 97.6, 97.7, 97.8, 97.8, 97.8, 97.8, 97.8, 97.9, 97.9, 97.9, 98.0, 98.0, 98.0, 98.0, 98.0, 98.0, 98.0, 98.0, 98.0, 98.0, 98.0, 98.0, 98.0, 98.2, 98.2, 98.2, 98.2, 98.3, 98.3, 98.4, 98.4, 98.4, 98.4, 98.4, 98.4, 98.4, 98.4, 98.4, 98.4, 98.4, 98.4, 98.5, 98.5, 98.5, 98.5, 98.6, 98.6, 98.6, 98.6, 98.6, 98.6, 98.6, 98.6, 98.6, 98.6, 98.6, 98.6, 98.6, 98.6, 98.6, 98.7, 98.7, 98.7, 98.7, 98.7, 98.7, 98.8, 98.8, 98.8, 98.8, 98.8, 98.8, 98.8, 98.9, 98.9, 99.0, 99.0, 99.1, 99.2, 99.4, 99.4, 99.5, 99.6] "
          ],
          "name": "stdout"
        }
      ]
    },
    {
      "cell_type": "markdown",
      "metadata": {
        "id": "yV8gtQCodFer"
      },
      "source": [
        "Calculando a amplitude da variação de dados(amp)"
      ]
    },
    {
      "cell_type": "code",
      "metadata": {
        "colab": {
          "base_uri": "https://localhost:8080/"
        },
        "id": "G8-kcR0odKS8",
        "outputId": "f93c6242-3632-46e6-f6f2-b5b932f01f39"
      },
      "source": [
        "amp = max(temperatura)-min(temperatura)\n",
        "amp\n"
      ],
      "execution_count": null,
      "outputs": [
        {
          "output_type": "execute_result",
          "data": {
            "text/plain": [
              "11.399999999999991"
            ]
          },
          "metadata": {
            "tags": []
          },
          "execution_count": 5
        }
      ]
    },
    {
      "cell_type": "markdown",
      "metadata": {
        "id": "tugDwRh2eFIw"
      },
      "source": [
        "Arredondando a amplitude para mais"
      ]
    },
    {
      "cell_type": "code",
      "metadata": {
        "colab": {
          "base_uri": "https://localhost:8080/"
        },
        "id": "gTmhQeTveKUT",
        "outputId": "52aff802-c383-4920-c76b-8c7fee864104"
      },
      "source": [
        "amp = round(amp,2)\n",
        "amp"
      ],
      "execution_count": null,
      "outputs": [
        {
          "output_type": "execute_result",
          "data": {
            "text/plain": [
              "11.4"
            ]
          },
          "metadata": {
            "tags": []
          },
          "execution_count": 6
        }
      ]
    },
    {
      "cell_type": "markdown",
      "metadata": {
        "id": "KoBDmIBBlGIW"
      },
      "source": [
        "Retornando o tamanho da lista\n"
      ]
    },
    {
      "cell_type": "code",
      "metadata": {
        "id": "X6jlf7YkhIju",
        "colab": {
          "base_uri": "https://localhost:8080/"
        },
        "outputId": "dbe3645d-a02d-4524-bff2-6bfff5906d3c"
      },
      "source": [
        "n = len(temperatura)\n",
        "n"
      ],
      "execution_count": null,
      "outputs": [
        {
          "output_type": "execute_result",
          "data": {
            "text/plain": [
              "106"
            ]
          },
          "metadata": {
            "tags": []
          },
          "execution_count": 7
        }
      ]
    },
    {
      "cell_type": "markdown",
      "metadata": {
        "id": "qGO1iVa4pDUx"
      },
      "source": [
        "Utilizando a Regra de Sturges"
      ]
    },
    {
      "cell_type": "code",
      "metadata": {
        "id": "JuuVbObhpRYJ",
        "colab": {
          "base_uri": "https://localhost:8080/"
        },
        "outputId": "9ec059f9-4fbb-4afd-abdf-58423d2e8849"
      },
      "source": [
        "k = 1 + log(n, 2)\n",
        "k"
      ],
      "execution_count": null,
      "outputs": [
        {
          "output_type": "execute_result",
          "data": {
            "text/plain": [
              "7.727920454563199"
            ]
          },
          "metadata": {
            "tags": []
          },
          "execution_count": 8
        }
      ]
    },
    {
      "cell_type": "markdown",
      "metadata": {
        "id": "x3q-GnM7f84X"
      },
      "source": [
        "Arredondando o resultado da Regra de Sturges para o próximo inteiro"
      ]
    },
    {
      "cell_type": "code",
      "metadata": {
        "colab": {
          "base_uri": "https://localhost:8080/"
        },
        "id": "JqlolMGXf49M",
        "outputId": "b363a4da-7df2-4b80-9d86-e2847cdab83c"
      },
      "source": [
        "k = round(k+0.5)\n",
        "k"
      ],
      "execution_count": null,
      "outputs": [
        {
          "output_type": "execute_result",
          "data": {
            "text/plain": [
              "8"
            ]
          },
          "metadata": {
            "tags": []
          },
          "execution_count": 9
        }
      ]
    },
    {
      "cell_type": "markdown",
      "metadata": {
        "id": "-Mfx7HiGCthE"
      },
      "source": [
        "Calculando o tamanho da classe"
      ]
    },
    {
      "cell_type": "code",
      "metadata": {
        "colab": {
          "base_uri": "https://localhost:8080/"
        },
        "id": "C2egYtD5gmzW",
        "outputId": "2393934a-11c2-4669-c965-6a41ffe02c6e"
      },
      "source": [
        "h = amp/k\n",
        "h"
      ],
      "execution_count": null,
      "outputs": [
        {
          "output_type": "execute_result",
          "data": {
            "text/plain": [
              "1.425"
            ]
          },
          "metadata": {
            "tags": []
          },
          "execution_count": 10
        }
      ]
    },
    {
      "cell_type": "markdown",
      "metadata": {
        "id": "5ueJ0n91jqFr"
      },
      "source": [
        "Arredondando o tamanho da classe para mais"
      ]
    },
    {
      "cell_type": "code",
      "metadata": {
        "colab": {
          "base_uri": "https://localhost:8080/"
        },
        "id": "5l5gY-6vB2fc",
        "outputId": "d6f65ab7-2242-40cd-a161-220227745713"
      },
      "source": [
        "h = round(h, 2)\n",
        "h"
      ],
      "execution_count": null,
      "outputs": [
        {
          "output_type": "execute_result",
          "data": {
            "text/plain": [
              "1.43"
            ]
          },
          "metadata": {
            "tags": []
          },
          "execution_count": 11
        }
      ]
    },
    {
      "cell_type": "code",
      "metadata": {
        "colab": {
          "base_uri": "https://localhost:8080/"
        },
        "id": "O63ls-Usljry",
        "outputId": "639f4366-e391-4f68-82a6-60936627ad94"
      },
      "source": [
        "round(min(temperatura)+ 1*h, 2 )"
      ],
      "execution_count": null,
      "outputs": [
        {
          "output_type": "execute_result",
          "data": {
            "text/plain": [
              "89.63"
            ]
          },
          "metadata": {
            "tags": []
          },
          "execution_count": 12
        }
      ]
    },
    {
      "cell_type": "markdown",
      "metadata": {
        "id": "GVOie4OFvgcq"
      },
      "source": [
        "Capturando os intervalos da classe\n"
      ]
    },
    {
      "cell_type": "code",
      "metadata": {
        "colab": {
          "base_uri": "https://localhost:8080/"
        },
        "id": "L0oH1IKAu8P3",
        "outputId": "585a2017-771c-4037-951e-02d66ef25d05"
      },
      "source": [
        "valores = []\n",
        "for i in range(0, k+1):\n",
        "    valores.append(round(min(temperatura)+ i*h, 2))\n",
        "valores"
      ],
      "execution_count": null,
      "outputs": [
        {
          "output_type": "execute_result",
          "data": {
            "text/plain": [
              "[88.2, 89.63, 91.06, 92.49, 93.92, 95.35, 96.78, 98.21, 99.64]"
            ]
          },
          "metadata": {
            "tags": []
          },
          "execution_count": 17
        }
      ]
    },
    {
      "cell_type": "code",
      "metadata": {
        "colab": {
          "base_uri": "https://localhost:8080/",
          "height": 266
        },
        "id": "FAV1_mpCILT5",
        "outputId": "57def74b-5176-4428-d187-e460621f56a9"
      },
      "source": [
        "\n",
        "\n",
        "c = ['Contador']\n",
        "df = pd.DataFrame(temperatura, columns=c)\n",
        "intervalo = pd.cut(df['Contador'], valores).value_counts()\n",
        "intervalo = intervalo.rename_axis('Classe').reset_index()\n",
        "intervalo.sort_values(by='Classe')"
      ],
      "execution_count": null,
      "outputs": [
        {
          "output_type": "execute_result",
          "data": {
            "text/html": [
              "<div>\n",
              "<style scoped>\n",
              "    .dataframe tbody tr th:only-of-type {\n",
              "        vertical-align: middle;\n",
              "    }\n",
              "\n",
              "    .dataframe tbody tr th {\n",
              "        vertical-align: top;\n",
              "    }\n",
              "\n",
              "    .dataframe thead th {\n",
              "        text-align: right;\n",
              "    }\n",
              "</style>\n",
              "<table border=\"1\" class=\"dataframe\">\n",
              "  <thead>\n",
              "    <tr style=\"text-align: right;\">\n",
              "      <th></th>\n",
              "      <th>Classe</th>\n",
              "      <th>Contador</th>\n",
              "    </tr>\n",
              "  </thead>\n",
              "  <tbody>\n",
              "    <tr>\n",
              "      <th>6</th>\n",
              "      <td>(88.2, 89.63]</td>\n",
              "      <td>0</td>\n",
              "    </tr>\n",
              "    <tr>\n",
              "      <th>5</th>\n",
              "      <td>(89.63, 91.06]</td>\n",
              "      <td>0</td>\n",
              "    </tr>\n",
              "    <tr>\n",
              "      <th>4</th>\n",
              "      <td>(91.06, 92.49]</td>\n",
              "      <td>0</td>\n",
              "    </tr>\n",
              "    <tr>\n",
              "      <th>3</th>\n",
              "      <td>(92.49, 93.92]</td>\n",
              "      <td>0</td>\n",
              "    </tr>\n",
              "    <tr>\n",
              "      <th>2</th>\n",
              "      <td>(93.92, 95.35]</td>\n",
              "      <td>0</td>\n",
              "    </tr>\n",
              "    <tr>\n",
              "      <th>1</th>\n",
              "      <td>(95.35, 96.78]</td>\n",
              "      <td>1</td>\n",
              "    </tr>\n",
              "    <tr>\n",
              "      <th>0</th>\n",
              "      <td>(96.78, 98.21]</td>\n",
              "      <td>48</td>\n",
              "    </tr>\n",
              "  </tbody>\n",
              "</table>\n",
              "</div>"
            ],
            "text/plain": [
              "           Classe  Contador\n",
              "6   (88.2, 89.63]         0\n",
              "5  (89.63, 91.06]         0\n",
              "4  (91.06, 92.49]         0\n",
              "3  (92.49, 93.92]         0\n",
              "2  (93.92, 95.35]         0\n",
              "1  (95.35, 96.78]         1\n",
              "0  (96.78, 98.21]        48"
            ]
          },
          "metadata": {
            "tags": []
          },
          "execution_count": 16
        }
      ]
    },
    {
      "cell_type": "markdown",
      "metadata": {
        "id": "qKCLPT7YW7MH"
      },
      "source": [
        "Criando as classes como strings"
      ]
    },
    {
      "cell_type": "code",
      "metadata": {
        "id": "W3h9sn38vobs"
      },
      "source": [
        "classe = ['88.20 |--- 89.63'], ['89.63 |-- 91.06 '], ['91.06 |-- 92.49 '], ['92.49 |-- 93.92  '], ['93.92  |-- 95.35 '],['95.35 |-- 96.78 '],['96.78 |-- 98.21  '],['98.21 |-- 99.64']"
      ],
      "execution_count": null,
      "outputs": []
    },
    {
      "cell_type": "code",
      "metadata": {
        "id": "UZgEKcAY69_C",
        "colab": {
          "base_uri": "https://localhost:8080/"
        },
        "outputId": "faade6c9-2da8-4e70-f55f-35660a1b43cd"
      },
      "source": [
        "temperatura = np.array([temperatura])\n",
        "temperatura\n"
      ],
      "execution_count": null,
      "outputs": [
        {
          "output_type": "execute_result",
          "data": {
            "text/plain": [
              "array([[88.2, 96.5, 96.9, 97. , 97. , 97. , 97.1, 97.1, 97.1, 97.2, 97.3,\n",
              "        97.3, 97.3, 97.4, 97.4, 97.4, 97.5, 97.5, 97.6, 97.6, 97.6, 97.6,\n",
              "        97.6, 97.6, 97.7, 97.8, 97.8, 97.8, 97.8, 97.8, 97.9, 97.9, 97.9,\n",
              "        98. , 98. , 98. , 98. , 98. , 98. , 98. , 98. , 98. , 98. , 98. ,\n",
              "        98. , 98. , 98.2, 98.2, 98.2, 98.2, 98.3, 98.3, 98.4, 98.4, 98.4,\n",
              "        98.4, 98.4, 98.4, 98.4, 98.4, 98.4, 98.4, 98.4, 98.4, 98.5, 98.5,\n",
              "        98.5, 98.5, 98.6, 98.6, 98.6, 98.6, 98.6, 98.6, 98.6, 98.6, 98.6,\n",
              "        98.6, 98.6, 98.6, 98.6, 98.6, 98.6, 98.7, 98.7, 98.7, 98.7, 98.7,\n",
              "        98.7, 98.8, 98.8, 98.8, 98.8, 98.8, 98.8, 98.8, 98.9, 98.9, 99. ,\n",
              "        99. , 99.1, 99.2, 99.4, 99.4, 99.5, 99.6]])"
            ]
          },
          "metadata": {
            "tags": []
          },
          "execution_count": 18
        }
      ]
    },
    {
      "cell_type": "code",
      "metadata": {
        "id": "vaEuAjOAdJ48"
      },
      "source": [
        "c = ['Classe']\n",
        "df= pd.DataFrame(temperatura, columns=c)\n",
        "pd.cut(df['Classe'], 8)"
      ],
      "execution_count": null,
      "outputs": []
    },
    {
      "cell_type": "markdown",
      "metadata": {
        "id": "NSIjuKobdewZ"
      },
      "source": [
        "microdados_enem_2019"
      ]
    },
    {
      "cell_type": "markdown",
      "metadata": {
        "id": "rqkt1_34XnCU"
      },
      "source": [
        "# Explorando conjunto de dados criminal da França"
      ]
    },
    {
      "cell_type": "code",
      "metadata": {
        "id": "DBx9HGgbarGj"
      },
      "source": [
        "import pandas as pd\n",
        "import numpy as np"
      ],
      "execution_count": null,
      "outputs": []
    },
    {
      "cell_type": "code",
      "metadata": {
        "id": "AZMNLiLua_rU"
      },
      "source": [
        "dados_criminal = pd.read_csv(\"/content/drive/MyDrive/Estatística/CausesOfDeath_France_2001-2008.csv\")\n",
        "dados_criminal.columns.values"
      ],
      "execution_count": null,
      "outputs": []
    },
    {
      "cell_type": "markdown",
      "metadata": {
        "id": "gwbAEhlSTnvQ"
      },
      "source": [
        "Capturando colunas do dataset"
      ]
    },
    {
      "cell_type": "code",
      "metadata": {
        "id": "zV8GRsm-4fRG"
      },
      "source": [
        "dados_criminal.columns.values"
      ],
      "execution_count": null,
      "outputs": []
    },
    {
      "cell_type": "markdown",
      "metadata": {
        "id": "I6CaUeVGTrCs"
      },
      "source": [
        "Selecionando colunas para trabalhar\n"
      ]
    },
    {
      "cell_type": "code",
      "metadata": {
        "colab": {
          "base_uri": "https://localhost:8080/",
          "height": 419
        },
        "id": "Ff2GX2ZH4u3-",
        "outputId": "bf16bedd-9333-41b9-a1cc-f2d204ef8657"
      },
      "source": [
        "colunas_selecionadas = ['TIME', 'ICD10', 'Value']\n",
        "criminal = dados_criminal.filter(colunas_selecionadas)\n",
        "criminal"
      ],
      "execution_count": null,
      "outputs": [
        {
          "output_type": "execute_result",
          "data": {
            "text/html": [
              "<div>\n",
              "<style scoped>\n",
              "    .dataframe tbody tr th:only-of-type {\n",
              "        vertical-align: middle;\n",
              "    }\n",
              "\n",
              "    .dataframe tbody tr th {\n",
              "        vertical-align: top;\n",
              "    }\n",
              "\n",
              "    .dataframe thead th {\n",
              "        text-align: right;\n",
              "    }\n",
              "</style>\n",
              "<table border=\"1\" class=\"dataframe\">\n",
              "  <thead>\n",
              "    <tr style=\"text-align: right;\">\n",
              "      <th></th>\n",
              "      <th>TIME</th>\n",
              "      <th>ICD10</th>\n",
              "      <th>Value</th>\n",
              "    </tr>\n",
              "  </thead>\n",
              "  <tbody>\n",
              "    <tr>\n",
              "      <th>0</th>\n",
              "      <td>2001</td>\n",
              "      <td>All causes of death (A00-Y89) excluding S00-T98</td>\n",
              "      <td>277 858</td>\n",
              "    </tr>\n",
              "    <tr>\n",
              "      <th>1</th>\n",
              "      <td>2001</td>\n",
              "      <td>Certain infectious and parasitic diseases (A00...</td>\n",
              "      <td>5 347</td>\n",
              "    </tr>\n",
              "    <tr>\n",
              "      <th>2</th>\n",
              "      <td>2001</td>\n",
              "      <td>Tuberculosis</td>\n",
              "      <td>545</td>\n",
              "    </tr>\n",
              "    <tr>\n",
              "      <th>3</th>\n",
              "      <td>2001</td>\n",
              "      <td>Meningococcal infection</td>\n",
              "      <td>30</td>\n",
              "    </tr>\n",
              "    <tr>\n",
              "      <th>4</th>\n",
              "      <td>2001</td>\n",
              "      <td>Viral hepatitis</td>\n",
              "      <td>471</td>\n",
              "    </tr>\n",
              "    <tr>\n",
              "      <th>...</th>\n",
              "      <td>...</td>\n",
              "      <td>...</td>\n",
              "      <td>...</td>\n",
              "    </tr>\n",
              "    <tr>\n",
              "      <th>1051</th>\n",
              "      <td>2008</td>\n",
              "      <td>Falls</td>\n",
              "      <td>2 815</td>\n",
              "    </tr>\n",
              "    <tr>\n",
              "      <th>1052</th>\n",
              "      <td>2008</td>\n",
              "      <td>Accidental poisoning by and exposure to noxiou...</td>\n",
              "      <td>630</td>\n",
              "    </tr>\n",
              "    <tr>\n",
              "      <th>1053</th>\n",
              "      <td>2008</td>\n",
              "      <td>Intentional self-harm</td>\n",
              "      <td>2 768</td>\n",
              "    </tr>\n",
              "    <tr>\n",
              "      <th>1054</th>\n",
              "      <td>2008</td>\n",
              "      <td>Assault</td>\n",
              "      <td>166</td>\n",
              "    </tr>\n",
              "    <tr>\n",
              "      <th>1055</th>\n",
              "      <td>2008</td>\n",
              "      <td>Event of undetermined intent</td>\n",
              "      <td>68</td>\n",
              "    </tr>\n",
              "  </tbody>\n",
              "</table>\n",
              "<p>1056 rows × 3 columns</p>\n",
              "</div>"
            ],
            "text/plain": [
              "      TIME                                              ICD10    Value\n",
              "0     2001    All causes of death (A00-Y89) excluding S00-T98  277 858\n",
              "1     2001  Certain infectious and parasitic diseases (A00...    5 347\n",
              "2     2001                                       Tuberculosis      545\n",
              "3     2001                            Meningococcal infection       30\n",
              "4     2001                                    Viral hepatitis      471\n",
              "...    ...                                                ...      ...\n",
              "1051  2008                                              Falls    2 815\n",
              "1052  2008  Accidental poisoning by and exposure to noxiou...      630\n",
              "1053  2008                              Intentional self-harm    2 768\n",
              "1054  2008                                            Assault      166\n",
              "1055  2008                       Event of undetermined intent       68\n",
              "\n",
              "[1056 rows x 3 columns]"
            ]
          },
          "metadata": {
            "tags": []
          },
          "execution_count": 254
        }
      ]
    },
    {
      "cell_type": "code",
      "metadata": {
        "colab": {
          "base_uri": "https://localhost:8080/",
          "height": 419
        },
        "id": "9ojOx1QOdeTU",
        "outputId": "08f1dc64-dd70-4dae-a3db-5fa51512a0a1"
      },
      "source": [
        "#pd.concat([s1, s2], axis=1)\n",
        "coluna_time = criminal['TIME']\n",
        "coluna_icd10 = criminal['ICD10']\n",
        "coluna_value = criminal['Value']\n",
        "df = pd.concat([coluna_time, coluna_icd10, coluna_value], axis=1)\n",
        "df"
      ],
      "execution_count": null,
      "outputs": [
        {
          "output_type": "execute_result",
          "data": {
            "text/html": [
              "<div>\n",
              "<style scoped>\n",
              "    .dataframe tbody tr th:only-of-type {\n",
              "        vertical-align: middle;\n",
              "    }\n",
              "\n",
              "    .dataframe tbody tr th {\n",
              "        vertical-align: top;\n",
              "    }\n",
              "\n",
              "    .dataframe thead th {\n",
              "        text-align: right;\n",
              "    }\n",
              "</style>\n",
              "<table border=\"1\" class=\"dataframe\">\n",
              "  <thead>\n",
              "    <tr style=\"text-align: right;\">\n",
              "      <th></th>\n",
              "      <th>TIME</th>\n",
              "      <th>ICD10</th>\n",
              "      <th>Value</th>\n",
              "    </tr>\n",
              "  </thead>\n",
              "  <tbody>\n",
              "    <tr>\n",
              "      <th>0</th>\n",
              "      <td>2001</td>\n",
              "      <td>All causes of death (A00-Y89) excluding S00-T98</td>\n",
              "      <td>277 858</td>\n",
              "    </tr>\n",
              "    <tr>\n",
              "      <th>1</th>\n",
              "      <td>2001</td>\n",
              "      <td>Certain infectious and parasitic diseases (A00...</td>\n",
              "      <td>5 347</td>\n",
              "    </tr>\n",
              "    <tr>\n",
              "      <th>2</th>\n",
              "      <td>2001</td>\n",
              "      <td>Tuberculosis</td>\n",
              "      <td>545</td>\n",
              "    </tr>\n",
              "    <tr>\n",
              "      <th>3</th>\n",
              "      <td>2001</td>\n",
              "      <td>Meningococcal infection</td>\n",
              "      <td>30</td>\n",
              "    </tr>\n",
              "    <tr>\n",
              "      <th>4</th>\n",
              "      <td>2001</td>\n",
              "      <td>Viral hepatitis</td>\n",
              "      <td>471</td>\n",
              "    </tr>\n",
              "    <tr>\n",
              "      <th>...</th>\n",
              "      <td>...</td>\n",
              "      <td>...</td>\n",
              "      <td>...</td>\n",
              "    </tr>\n",
              "    <tr>\n",
              "      <th>1051</th>\n",
              "      <td>2008</td>\n",
              "      <td>Falls</td>\n",
              "      <td>2 815</td>\n",
              "    </tr>\n",
              "    <tr>\n",
              "      <th>1052</th>\n",
              "      <td>2008</td>\n",
              "      <td>Accidental poisoning by and exposure to noxiou...</td>\n",
              "      <td>630</td>\n",
              "    </tr>\n",
              "    <tr>\n",
              "      <th>1053</th>\n",
              "      <td>2008</td>\n",
              "      <td>Intentional self-harm</td>\n",
              "      <td>2 768</td>\n",
              "    </tr>\n",
              "    <tr>\n",
              "      <th>1054</th>\n",
              "      <td>2008</td>\n",
              "      <td>Assault</td>\n",
              "      <td>166</td>\n",
              "    </tr>\n",
              "    <tr>\n",
              "      <th>1055</th>\n",
              "      <td>2008</td>\n",
              "      <td>Event of undetermined intent</td>\n",
              "      <td>68</td>\n",
              "    </tr>\n",
              "  </tbody>\n",
              "</table>\n",
              "<p>1056 rows × 3 columns</p>\n",
              "</div>"
            ],
            "text/plain": [
              "      TIME                                              ICD10    Value\n",
              "0     2001    All causes of death (A00-Y89) excluding S00-T98  277 858\n",
              "1     2001  Certain infectious and parasitic diseases (A00...    5 347\n",
              "2     2001                                       Tuberculosis      545\n",
              "3     2001                            Meningococcal infection       30\n",
              "4     2001                                    Viral hepatitis      471\n",
              "...    ...                                                ...      ...\n",
              "1051  2008                                              Falls    2 815\n",
              "1052  2008  Accidental poisoning by and exposure to noxiou...      630\n",
              "1053  2008                              Intentional self-harm    2 768\n",
              "1054  2008                                            Assault      166\n",
              "1055  2008                       Event of undetermined intent       68\n",
              "\n",
              "[1056 rows x 3 columns]"
            ]
          },
          "metadata": {
            "tags": []
          },
          "execution_count": 264
        }
      ]
    },
    {
      "cell_type": "markdown",
      "metadata": {
        "id": "LukymgSQk-pA"
      },
      "source": [
        "Renomeando as colunas"
      ]
    },
    {
      "cell_type": "code",
      "metadata": {
        "colab": {
          "base_uri": "https://localhost:8080/",
          "height": 419
        },
        "id": "cR8YR9-KZLLB",
        "outputId": "74855dd8-8dad-4c08-9efd-27d2712ac200"
      },
      "source": [
        "df = df.rename({'TIME': 'Ano', 'ICD10': 'Causa da morte', 'Value': 'Quantidade de Óbitos'}, axis = 1)\n",
        "df"
      ],
      "execution_count": null,
      "outputs": [
        {
          "output_type": "execute_result",
          "data": {
            "text/html": [
              "<div>\n",
              "<style scoped>\n",
              "    .dataframe tbody tr th:only-of-type {\n",
              "        vertical-align: middle;\n",
              "    }\n",
              "\n",
              "    .dataframe tbody tr th {\n",
              "        vertical-align: top;\n",
              "    }\n",
              "\n",
              "    .dataframe thead th {\n",
              "        text-align: right;\n",
              "    }\n",
              "</style>\n",
              "<table border=\"1\" class=\"dataframe\">\n",
              "  <thead>\n",
              "    <tr style=\"text-align: right;\">\n",
              "      <th></th>\n",
              "      <th>Ano</th>\n",
              "      <th>Causa da morte</th>\n",
              "      <th>Quantidade de Óbitos</th>\n",
              "    </tr>\n",
              "  </thead>\n",
              "  <tbody>\n",
              "    <tr>\n",
              "      <th>0</th>\n",
              "      <td>2001</td>\n",
              "      <td>All causes of death (A00-Y89) excluding S00-T98</td>\n",
              "      <td>277 858</td>\n",
              "    </tr>\n",
              "    <tr>\n",
              "      <th>1</th>\n",
              "      <td>2001</td>\n",
              "      <td>Certain infectious and parasitic diseases (A00...</td>\n",
              "      <td>5 347</td>\n",
              "    </tr>\n",
              "    <tr>\n",
              "      <th>2</th>\n",
              "      <td>2001</td>\n",
              "      <td>Tuberculosis</td>\n",
              "      <td>545</td>\n",
              "    </tr>\n",
              "    <tr>\n",
              "      <th>3</th>\n",
              "      <td>2001</td>\n",
              "      <td>Meningococcal infection</td>\n",
              "      <td>30</td>\n",
              "    </tr>\n",
              "    <tr>\n",
              "      <th>4</th>\n",
              "      <td>2001</td>\n",
              "      <td>Viral hepatitis</td>\n",
              "      <td>471</td>\n",
              "    </tr>\n",
              "    <tr>\n",
              "      <th>...</th>\n",
              "      <td>...</td>\n",
              "      <td>...</td>\n",
              "      <td>...</td>\n",
              "    </tr>\n",
              "    <tr>\n",
              "      <th>1051</th>\n",
              "      <td>2008</td>\n",
              "      <td>Falls</td>\n",
              "      <td>2 815</td>\n",
              "    </tr>\n",
              "    <tr>\n",
              "      <th>1052</th>\n",
              "      <td>2008</td>\n",
              "      <td>Accidental poisoning by and exposure to noxiou...</td>\n",
              "      <td>630</td>\n",
              "    </tr>\n",
              "    <tr>\n",
              "      <th>1053</th>\n",
              "      <td>2008</td>\n",
              "      <td>Intentional self-harm</td>\n",
              "      <td>2 768</td>\n",
              "    </tr>\n",
              "    <tr>\n",
              "      <th>1054</th>\n",
              "      <td>2008</td>\n",
              "      <td>Assault</td>\n",
              "      <td>166</td>\n",
              "    </tr>\n",
              "    <tr>\n",
              "      <th>1055</th>\n",
              "      <td>2008</td>\n",
              "      <td>Event of undetermined intent</td>\n",
              "      <td>68</td>\n",
              "    </tr>\n",
              "  </tbody>\n",
              "</table>\n",
              "<p>1056 rows × 3 columns</p>\n",
              "</div>"
            ],
            "text/plain": [
              "       Ano  ... Quantidade de Óbitos\n",
              "0     2001  ...              277 858\n",
              "1     2001  ...                5 347\n",
              "2     2001  ...                  545\n",
              "3     2001  ...                   30\n",
              "4     2001  ...                  471\n",
              "...    ...  ...                  ...\n",
              "1051  2008  ...                2 815\n",
              "1052  2008  ...                  630\n",
              "1053  2008  ...                2 768\n",
              "1054  2008  ...                  166\n",
              "1055  2008  ...                   68\n",
              "\n",
              "[1056 rows x 3 columns]"
            ]
          },
          "metadata": {
            "tags": []
          },
          "execution_count": 298
        }
      ]
    },
    {
      "cell_type": "code",
      "metadata": {
        "colab": {
          "base_uri": "https://localhost:8080/",
          "height": 473
        },
        "id": "KkmVMnCKlDgB",
        "outputId": "5711097b-537a-4577-e760-7cc456fa6677"
      },
      "source": [
        "#df.groupby(\"state\")[\"last_name\"].count()\n",
        "g = df.groupby('Ano')['Ano','Causa da morte','Quantidade de Óbitos']\n",
        "g.head(10)"
      ],
      "execution_count": null,
      "outputs": [
        {
          "output_type": "stream",
          "text": [
            "/usr/local/lib/python3.7/dist-packages/ipykernel_launcher.py:2: FutureWarning: Indexing with multiple keys (implicitly converted to a tuple of keys) will be deprecated, use a list instead.\n",
            "  \n"
          ],
          "name": "stderr"
        },
        {
          "output_type": "execute_result",
          "data": {
            "text/html": [
              "<div>\n",
              "<style scoped>\n",
              "    .dataframe tbody tr th:only-of-type {\n",
              "        vertical-align: middle;\n",
              "    }\n",
              "\n",
              "    .dataframe tbody tr th {\n",
              "        vertical-align: top;\n",
              "    }\n",
              "\n",
              "    .dataframe thead th {\n",
              "        text-align: right;\n",
              "    }\n",
              "</style>\n",
              "<table border=\"1\" class=\"dataframe\">\n",
              "  <thead>\n",
              "    <tr style=\"text-align: right;\">\n",
              "      <th></th>\n",
              "      <th>Ano</th>\n",
              "      <th>Causa da morte</th>\n",
              "      <th>Quantidade de Óbitos</th>\n",
              "    </tr>\n",
              "  </thead>\n",
              "  <tbody>\n",
              "    <tr>\n",
              "      <th>0</th>\n",
              "      <td>2001</td>\n",
              "      <td>All causes of death (A00-Y89) excluding S00-T98</td>\n",
              "      <td>277 858</td>\n",
              "    </tr>\n",
              "    <tr>\n",
              "      <th>1</th>\n",
              "      <td>2001</td>\n",
              "      <td>Certain infectious and parasitic diseases (A00...</td>\n",
              "      <td>5 347</td>\n",
              "    </tr>\n",
              "    <tr>\n",
              "      <th>2</th>\n",
              "      <td>2001</td>\n",
              "      <td>Tuberculosis</td>\n",
              "      <td>545</td>\n",
              "    </tr>\n",
              "    <tr>\n",
              "      <th>3</th>\n",
              "      <td>2001</td>\n",
              "      <td>Meningococcal infection</td>\n",
              "      <td>30</td>\n",
              "    </tr>\n",
              "    <tr>\n",
              "      <th>4</th>\n",
              "      <td>2001</td>\n",
              "      <td>Viral hepatitis</td>\n",
              "      <td>471</td>\n",
              "    </tr>\n",
              "    <tr>\n",
              "      <th>...</th>\n",
              "      <td>...</td>\n",
              "      <td>...</td>\n",
              "      <td>...</td>\n",
              "    </tr>\n",
              "    <tr>\n",
              "      <th>929</th>\n",
              "      <td>2008</td>\n",
              "      <td>Human immunodeficiency virus [HIV] disease</td>\n",
              "      <td>518</td>\n",
              "    </tr>\n",
              "    <tr>\n",
              "      <th>930</th>\n",
              "      <td>2008</td>\n",
              "      <td>Neoplasms</td>\n",
              "      <td>93 872</td>\n",
              "    </tr>\n",
              "    <tr>\n",
              "      <th>931</th>\n",
              "      <td>2008</td>\n",
              "      <td>Malignant neoplasms (C00-C97)</td>\n",
              "      <td>90 481</td>\n",
              "    </tr>\n",
              "    <tr>\n",
              "      <th>932</th>\n",
              "      <td>2008</td>\n",
              "      <td>Malignant neoplasm of lip, oral cavity, pharynx</td>\n",
              "      <td>3 217</td>\n",
              "    </tr>\n",
              "    <tr>\n",
              "      <th>933</th>\n",
              "      <td>2008</td>\n",
              "      <td>Malignant neoplasm of oesophagus</td>\n",
              "      <td>3 175</td>\n",
              "    </tr>\n",
              "  </tbody>\n",
              "</table>\n",
              "<p>80 rows × 3 columns</p>\n",
              "</div>"
            ],
            "text/plain": [
              "      Ano  ... Quantidade de Óbitos\n",
              "0    2001  ...              277 858\n",
              "1    2001  ...                5 347\n",
              "2    2001  ...                  545\n",
              "3    2001  ...                   30\n",
              "4    2001  ...                  471\n",
              "..    ...  ...                  ...\n",
              "929  2008  ...                  518\n",
              "930  2008  ...               93 872\n",
              "931  2008  ...               90 481\n",
              "932  2008  ...                3 217\n",
              "933  2008  ...                3 175\n",
              "\n",
              "[80 rows x 3 columns]"
            ]
          },
          "metadata": {
            "tags": []
          },
          "execution_count": 301
        }
      ]
    }
  ]
}