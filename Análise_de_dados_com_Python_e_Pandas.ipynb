{
  "nbformat": 4,
  "nbformat_minor": 0,
  "metadata": {
    "colab": {
      "name": "Análise de dados com Python e Pandas.ipynb",
      "provenance": [],
      "collapsed_sections": [],
      "mount_file_id": "1M5xqFKbAu6jJjv1vaEJcu57KebcdMEo0",
      "authorship_tag": "ABX9TyMSI9TTSEShkKe+OIN1mhYO",
      "include_colab_link": true
    },
    "kernelspec": {
      "name": "python3",
      "display_name": "Python 3"
    },
    "language_info": {
      "name": "python"
    }
  },
  "cells": [
    {
      "cell_type": "markdown",
      "metadata": {
        "id": "view-in-github",
        "colab_type": "text"
      },
      "source": [
        "<a href=\"https://colab.research.google.com/github/devAquino/Analise-de-dados-com-Python-e-Pandas/blob/main/An%C3%A1lise_de_dados_com_Python_e_Pandas.ipynb\" target=\"_parent\"><img src=\"https://colab.research.google.com/assets/colab-badge.svg\" alt=\"Open In Colab\"/></a>"
      ]
    },
    {
      "cell_type": "markdown",
      "metadata": {
        "id": "rm0wvTM9FQx2"
      },
      "source": [
        "##Analizando o dataset AdventureWorks"
      ]
    },
    {
      "cell_type": "code",
      "metadata": {
        "id": "WARzadoCAErL"
      },
      "source": [
        "import pandas as pd"
      ],
      "execution_count": 1,
      "outputs": []
    },
    {
      "cell_type": "code",
      "metadata": {
        "id": "H74klsaWB3G2"
      },
      "source": [
        "df = pd.read_excel(\"/content/drive/MyDrive/Datasets/AdventureWorks.xlsx\")"
      ],
      "execution_count": 2,
      "outputs": []
    },
    {
      "cell_type": "markdown",
      "metadata": {
        "id": "0NDOOHsSFkc6"
      },
      "source": [
        "*Listando apenas as colunas*"
      ]
    },
    {
      "cell_type": "markdown",
      "metadata": {
        "id": "QjvLflqmFUoj"
      },
      "source": [
        ""
      ]
    },
    {
      "cell_type": "code",
      "metadata": {
        "colab": {
          "base_uri": "https://localhost:8080/"
        },
        "id": "3WhUfgqvB98p",
        "outputId": "223d0097-9a39-4661-e572-115149ce3435"
      },
      "source": [
        "df.columns"
      ],
      "execution_count": 3,
      "outputs": [
        {
          "output_type": "execute_result",
          "data": {
            "text/plain": [
              "Index(['Data Venda', 'Data Envio', 'ID Loja', 'ID Produto', 'ID Cliente',\n",
              "       'No. Venda', 'Custo Unitário', 'Preço Unitário', 'Quantidade',\n",
              "       'Valor Desconto', 'Valor Venda', 'Produto', 'Fabricante', 'Marca',\n",
              "       'Classe', 'Cor'],\n",
              "      dtype='object')"
            ]
          },
          "metadata": {
            "tags": []
          },
          "execution_count": 3
        }
      ]
    },
    {
      "cell_type": "markdown",
      "metadata": {
        "id": "THZZKKrnFtJ6"
      },
      "source": [
        "*Renomeando as colunas para que atenda às boas práticas*"
      ]
    },
    {
      "cell_type": "code",
      "metadata": {
        "id": "eDgVK5OsDqMT"
      },
      "source": [
        "df.rename(columns={'Data Venda': 'data_venda', 'Data Envio':'data_envio','ID Loja':'id_loja',\n",
        "                                    'ID Produto':'id_produto','ID Cliente':'id_cliente', 'No. Venda': 'num_venda',\n",
        "                                    'Custo Unitário':'custo_unitario', 'Preço Unitário':'preco_unitario',\n",
        "                                    'Quantidade':'quantidade','Valor Desconto':'valor_desconto', \n",
        "                                    'Valor Venda':'valor_venda', 'Produto':'produto', 'Fabricante':'fabricante', \n",
        "                                    'Marca':'marca','Classe':'classe', 'Cor':'cor'},inplace=True)"
      ],
      "execution_count": 4,
      "outputs": []
    },
    {
      "cell_type": "markdown",
      "metadata": {
        "id": "ToHE1-CiIXvp"
      },
      "source": [
        "*Verificando se há valores faltantes e outras informações do dataframe*"
      ]
    },
    {
      "cell_type": "code",
      "metadata": {
        "colab": {
          "base_uri": "https://localhost:8080/"
        },
        "id": "bpZ4iJq0EzJi",
        "outputId": "25abdeb1-a4b3-4fed-9039-8ff44f21423c"
      },
      "source": [
        "df.info()\n",
        "#df.loc[df.data_venda == '2008-05-09']"
      ],
      "execution_count": 5,
      "outputs": [
        {
          "output_type": "stream",
          "text": [
            "<class 'pandas.core.frame.DataFrame'>\n",
            "RangeIndex: 904 entries, 0 to 903\n",
            "Data columns (total 16 columns):\n",
            " #   Column          Non-Null Count  Dtype         \n",
            "---  ------          --------------  -----         \n",
            " 0   data_venda      904 non-null    datetime64[ns]\n",
            " 1   data_envio      904 non-null    datetime64[ns]\n",
            " 2   id_loja         904 non-null    int64         \n",
            " 3   id_produto      904 non-null    int64         \n",
            " 4   id_cliente      904 non-null    int64         \n",
            " 5   num_venda       904 non-null    object        \n",
            " 6   custo_unitario  904 non-null    float64       \n",
            " 7   preco_unitario  904 non-null    float64       \n",
            " 8   quantidade      904 non-null    int64         \n",
            " 9   valor_desconto  904 non-null    float64       \n",
            " 10  valor_venda     904 non-null    float64       \n",
            " 11  produto         904 non-null    object        \n",
            " 12  fabricante      904 non-null    object        \n",
            " 13  marca           904 non-null    object        \n",
            " 14  classe          904 non-null    object        \n",
            " 15  cor             904 non-null    object        \n",
            "dtypes: datetime64[ns](2), float64(4), int64(4), object(6)\n",
            "memory usage: 113.1+ KB\n"
          ],
          "name": "stdout"
        }
      ]
    },
    {
      "cell_type": "markdown",
      "metadata": {
        "id": "L5ZlrCAbJfUt"
      },
      "source": [
        "*Verificando as 5 primeiras linhas do dataframe*"
      ]
    },
    {
      "cell_type": "code",
      "metadata": {
        "colab": {
          "base_uri": "https://localhost:8080/",
          "height": 479
        },
        "id": "mOU6m8K2lEL4",
        "outputId": "decf06ab-d9e5-4e05-b6c0-d39e9641b8b1"
      },
      "source": [
        "df.head()"
      ],
      "execution_count": 6,
      "outputs": [
        {
          "output_type": "execute_result",
          "data": {
            "text/html": [
              "<div>\n",
              "<style scoped>\n",
              "    .dataframe tbody tr th:only-of-type {\n",
              "        vertical-align: middle;\n",
              "    }\n",
              "\n",
              "    .dataframe tbody tr th {\n",
              "        vertical-align: top;\n",
              "    }\n",
              "\n",
              "    .dataframe thead th {\n",
              "        text-align: right;\n",
              "    }\n",
              "</style>\n",
              "<table border=\"1\" class=\"dataframe\">\n",
              "  <thead>\n",
              "    <tr style=\"text-align: right;\">\n",
              "      <th></th>\n",
              "      <th>data_venda</th>\n",
              "      <th>data_envio</th>\n",
              "      <th>id_loja</th>\n",
              "      <th>id_produto</th>\n",
              "      <th>id_cliente</th>\n",
              "      <th>num_venda</th>\n",
              "      <th>custo_unitario</th>\n",
              "      <th>preco_unitario</th>\n",
              "      <th>quantidade</th>\n",
              "      <th>valor_desconto</th>\n",
              "      <th>valor_venda</th>\n",
              "      <th>produto</th>\n",
              "      <th>fabricante</th>\n",
              "      <th>marca</th>\n",
              "      <th>classe</th>\n",
              "      <th>cor</th>\n",
              "    </tr>\n",
              "  </thead>\n",
              "  <tbody>\n",
              "    <tr>\n",
              "      <th>0</th>\n",
              "      <td>2008-05-09</td>\n",
              "      <td>2008-05-29</td>\n",
              "      <td>199</td>\n",
              "      <td>384</td>\n",
              "      <td>18839</td>\n",
              "      <td>200805093CS607</td>\n",
              "      <td>348.58</td>\n",
              "      <td>758.0</td>\n",
              "      <td>6</td>\n",
              "      <td>0.0</td>\n",
              "      <td>4548.0</td>\n",
              "      <td>Adventure Works Laptop15.4W M1548 Red</td>\n",
              "      <td>Adventure Works</td>\n",
              "      <td>Adventure Works</td>\n",
              "      <td>Regular</td>\n",
              "      <td>Red</td>\n",
              "    </tr>\n",
              "    <tr>\n",
              "      <th>1</th>\n",
              "      <td>2008-05-12</td>\n",
              "      <td>2008-05-17</td>\n",
              "      <td>306</td>\n",
              "      <td>384</td>\n",
              "      <td>19051</td>\n",
              "      <td>200805123CS567</td>\n",
              "      <td>348.58</td>\n",
              "      <td>758.0</td>\n",
              "      <td>6</td>\n",
              "      <td>0.0</td>\n",
              "      <td>4548.0</td>\n",
              "      <td>Adventure Works Laptop15.4W M1548 Red</td>\n",
              "      <td>Adventure Works</td>\n",
              "      <td>Adventure Works</td>\n",
              "      <td>Regular</td>\n",
              "      <td>Red</td>\n",
              "    </tr>\n",
              "    <tr>\n",
              "      <th>2</th>\n",
              "      <td>2008-05-14</td>\n",
              "      <td>2008-05-20</td>\n",
              "      <td>306</td>\n",
              "      <td>384</td>\n",
              "      <td>19052</td>\n",
              "      <td>200805143CS576</td>\n",
              "      <td>348.58</td>\n",
              "      <td>758.0</td>\n",
              "      <td>6</td>\n",
              "      <td>0.0</td>\n",
              "      <td>4548.0</td>\n",
              "      <td>Adventure Works Laptop15.4W M1548 Red</td>\n",
              "      <td>Adventure Works</td>\n",
              "      <td>Adventure Works</td>\n",
              "      <td>Regular</td>\n",
              "      <td>Red</td>\n",
              "    </tr>\n",
              "    <tr>\n",
              "      <th>3</th>\n",
              "      <td>2008-05-21</td>\n",
              "      <td>2008-05-27</td>\n",
              "      <td>306</td>\n",
              "      <td>384</td>\n",
              "      <td>19052</td>\n",
              "      <td>200805213CS576</td>\n",
              "      <td>348.58</td>\n",
              "      <td>758.0</td>\n",
              "      <td>6</td>\n",
              "      <td>0.0</td>\n",
              "      <td>4548.0</td>\n",
              "      <td>Adventure Works Laptop15.4W M1548 Red</td>\n",
              "      <td>Adventure Works</td>\n",
              "      <td>Adventure Works</td>\n",
              "      <td>Regular</td>\n",
              "      <td>Red</td>\n",
              "    </tr>\n",
              "    <tr>\n",
              "      <th>4</th>\n",
              "      <td>2008-06-20</td>\n",
              "      <td>2008-06-27</td>\n",
              "      <td>306</td>\n",
              "      <td>384</td>\n",
              "      <td>19053</td>\n",
              "      <td>200806203CS586</td>\n",
              "      <td>348.58</td>\n",
              "      <td>758.0</td>\n",
              "      <td>6</td>\n",
              "      <td>0.0</td>\n",
              "      <td>4548.0</td>\n",
              "      <td>Adventure Works Laptop15.4W M1548 Red</td>\n",
              "      <td>Adventure Works</td>\n",
              "      <td>Adventure Works</td>\n",
              "      <td>Regular</td>\n",
              "      <td>Red</td>\n",
              "    </tr>\n",
              "  </tbody>\n",
              "</table>\n",
              "</div>"
            ],
            "text/plain": [
              "  data_venda data_envio  id_loja  ...            marca   classe  cor\n",
              "0 2008-05-09 2008-05-29      199  ...  Adventure Works  Regular  Red\n",
              "1 2008-05-12 2008-05-17      306  ...  Adventure Works  Regular  Red\n",
              "2 2008-05-14 2008-05-20      306  ...  Adventure Works  Regular  Red\n",
              "3 2008-05-21 2008-05-27      306  ...  Adventure Works  Regular  Red\n",
              "4 2008-06-20 2008-06-27      306  ...  Adventure Works  Regular  Red\n",
              "\n",
              "[5 rows x 16 columns]"
            ]
          },
          "metadata": {
            "tags": []
          },
          "execution_count": 6
        }
      ]
    },
    {
      "cell_type": "markdown",
      "metadata": {
        "id": "Pva83ZKKu68P"
      },
      "source": [
        "*Obtendo a quantidade de produtos vendidos por dia de cada marca*"
      ]
    },
    {
      "cell_type": "code",
      "metadata": {
        "colab": {
          "base_uri": "https://localhost:8080/"
        },
        "id": "INtdSL05uc0m",
        "outputId": "952bc5ba-562d-424d-8c94-b333ab7106f0"
      },
      "source": [
        "df.groupby([df['data_venda'],'marca'])['quantidade'].sum()"
      ],
      "execution_count": 7,
      "outputs": [
        {
          "output_type": "execute_result",
          "data": {
            "text/plain": [
              "data_venda  marca          \n",
              "2008-01-02  Fabrikam             20\n",
              "2008-01-04  Fabrikam             18\n",
              "2008-01-05  Fabrikam              8\n",
              "2008-01-06  Fabrikam              4\n",
              "2008-01-12  Fabrikam             14\n",
              "                               ... \n",
              "2009-12-29  Adventure Works       7\n",
              "            Contoso             312\n",
              "2009-12-30  Contoso             624\n",
              "2009-12-31  Adventure Works       8\n",
              "            Contoso            1560\n",
              "Name: quantidade, Length: 700, dtype: int64"
            ]
          },
          "metadata": {
            "tags": []
          },
          "execution_count": 7
        }
      ]
    },
    {
      "cell_type": "markdown",
      "metadata": {
        "id": "KgXWd3YZlMQL"
      },
      "source": [
        "*Criando uma coluna chamada custo_produto*"
      ]
    },
    {
      "cell_type": "code",
      "metadata": {
        "id": "MeOZjzrbkaEq"
      },
      "source": [
        "df['custo_total'] = df['custo_unitario'].mul(df['quantidade'])"
      ],
      "execution_count": 8,
      "outputs": []
    },
    {
      "cell_type": "markdown",
      "metadata": {
        "id": "_hNxAfjz4wqX"
      },
      "source": [
        "*Criando coluna lucro*"
      ]
    },
    {
      "cell_type": "code",
      "metadata": {
        "id": "vQmomT1hl57e"
      },
      "source": [
        "df['lucro'] = df['valor_venda'] - df['custo_total']"
      ],
      "execution_count": 9,
      "outputs": []
    },
    {
      "cell_type": "markdown",
      "metadata": {
        "id": "mx2G1rxV4ipA"
      },
      "source": [
        "*Criando coluna tempo_envio*"
      ]
    },
    {
      "cell_type": "code",
      "metadata": {
        "id": "O9mgBQBE4Zyb"
      },
      "source": [
        "df['tempo_envio'] = (df.data_envio - df.data_venda).dt.days"
      ],
      "execution_count": 10,
      "outputs": []
    },
    {
      "cell_type": "code",
      "metadata": {
        "colab": {
          "base_uri": "https://localhost:8080/",
          "height": 479
        },
        "id": "XVL_O7C044nZ",
        "outputId": "e6f4f523-4b8e-4518-eac8-6347d248dbf4"
      },
      "source": [
        "df.head()"
      ],
      "execution_count": 11,
      "outputs": [
        {
          "output_type": "execute_result",
          "data": {
            "text/html": [
              "<div>\n",
              "<style scoped>\n",
              "    .dataframe tbody tr th:only-of-type {\n",
              "        vertical-align: middle;\n",
              "    }\n",
              "\n",
              "    .dataframe tbody tr th {\n",
              "        vertical-align: top;\n",
              "    }\n",
              "\n",
              "    .dataframe thead th {\n",
              "        text-align: right;\n",
              "    }\n",
              "</style>\n",
              "<table border=\"1\" class=\"dataframe\">\n",
              "  <thead>\n",
              "    <tr style=\"text-align: right;\">\n",
              "      <th></th>\n",
              "      <th>data_venda</th>\n",
              "      <th>data_envio</th>\n",
              "      <th>id_loja</th>\n",
              "      <th>id_produto</th>\n",
              "      <th>id_cliente</th>\n",
              "      <th>num_venda</th>\n",
              "      <th>custo_unitario</th>\n",
              "      <th>preco_unitario</th>\n",
              "      <th>quantidade</th>\n",
              "      <th>valor_desconto</th>\n",
              "      <th>valor_venda</th>\n",
              "      <th>produto</th>\n",
              "      <th>fabricante</th>\n",
              "      <th>marca</th>\n",
              "      <th>classe</th>\n",
              "      <th>cor</th>\n",
              "      <th>custo_total</th>\n",
              "      <th>lucro</th>\n",
              "      <th>tempo_envio</th>\n",
              "    </tr>\n",
              "  </thead>\n",
              "  <tbody>\n",
              "    <tr>\n",
              "      <th>0</th>\n",
              "      <td>2008-05-09</td>\n",
              "      <td>2008-05-29</td>\n",
              "      <td>199</td>\n",
              "      <td>384</td>\n",
              "      <td>18839</td>\n",
              "      <td>200805093CS607</td>\n",
              "      <td>348.58</td>\n",
              "      <td>758.0</td>\n",
              "      <td>6</td>\n",
              "      <td>0.0</td>\n",
              "      <td>4548.0</td>\n",
              "      <td>Adventure Works Laptop15.4W M1548 Red</td>\n",
              "      <td>Adventure Works</td>\n",
              "      <td>Adventure Works</td>\n",
              "      <td>Regular</td>\n",
              "      <td>Red</td>\n",
              "      <td>2091.48</td>\n",
              "      <td>2456.52</td>\n",
              "      <td>20</td>\n",
              "    </tr>\n",
              "    <tr>\n",
              "      <th>1</th>\n",
              "      <td>2008-05-12</td>\n",
              "      <td>2008-05-17</td>\n",
              "      <td>306</td>\n",
              "      <td>384</td>\n",
              "      <td>19051</td>\n",
              "      <td>200805123CS567</td>\n",
              "      <td>348.58</td>\n",
              "      <td>758.0</td>\n",
              "      <td>6</td>\n",
              "      <td>0.0</td>\n",
              "      <td>4548.0</td>\n",
              "      <td>Adventure Works Laptop15.4W M1548 Red</td>\n",
              "      <td>Adventure Works</td>\n",
              "      <td>Adventure Works</td>\n",
              "      <td>Regular</td>\n",
              "      <td>Red</td>\n",
              "      <td>2091.48</td>\n",
              "      <td>2456.52</td>\n",
              "      <td>5</td>\n",
              "    </tr>\n",
              "    <tr>\n",
              "      <th>2</th>\n",
              "      <td>2008-05-14</td>\n",
              "      <td>2008-05-20</td>\n",
              "      <td>306</td>\n",
              "      <td>384</td>\n",
              "      <td>19052</td>\n",
              "      <td>200805143CS576</td>\n",
              "      <td>348.58</td>\n",
              "      <td>758.0</td>\n",
              "      <td>6</td>\n",
              "      <td>0.0</td>\n",
              "      <td>4548.0</td>\n",
              "      <td>Adventure Works Laptop15.4W M1548 Red</td>\n",
              "      <td>Adventure Works</td>\n",
              "      <td>Adventure Works</td>\n",
              "      <td>Regular</td>\n",
              "      <td>Red</td>\n",
              "      <td>2091.48</td>\n",
              "      <td>2456.52</td>\n",
              "      <td>6</td>\n",
              "    </tr>\n",
              "    <tr>\n",
              "      <th>3</th>\n",
              "      <td>2008-05-21</td>\n",
              "      <td>2008-05-27</td>\n",
              "      <td>306</td>\n",
              "      <td>384</td>\n",
              "      <td>19052</td>\n",
              "      <td>200805213CS576</td>\n",
              "      <td>348.58</td>\n",
              "      <td>758.0</td>\n",
              "      <td>6</td>\n",
              "      <td>0.0</td>\n",
              "      <td>4548.0</td>\n",
              "      <td>Adventure Works Laptop15.4W M1548 Red</td>\n",
              "      <td>Adventure Works</td>\n",
              "      <td>Adventure Works</td>\n",
              "      <td>Regular</td>\n",
              "      <td>Red</td>\n",
              "      <td>2091.48</td>\n",
              "      <td>2456.52</td>\n",
              "      <td>6</td>\n",
              "    </tr>\n",
              "    <tr>\n",
              "      <th>4</th>\n",
              "      <td>2008-06-20</td>\n",
              "      <td>2008-06-27</td>\n",
              "      <td>306</td>\n",
              "      <td>384</td>\n",
              "      <td>19053</td>\n",
              "      <td>200806203CS586</td>\n",
              "      <td>348.58</td>\n",
              "      <td>758.0</td>\n",
              "      <td>6</td>\n",
              "      <td>0.0</td>\n",
              "      <td>4548.0</td>\n",
              "      <td>Adventure Works Laptop15.4W M1548 Red</td>\n",
              "      <td>Adventure Works</td>\n",
              "      <td>Adventure Works</td>\n",
              "      <td>Regular</td>\n",
              "      <td>Red</td>\n",
              "      <td>2091.48</td>\n",
              "      <td>2456.52</td>\n",
              "      <td>7</td>\n",
              "    </tr>\n",
              "  </tbody>\n",
              "</table>\n",
              "</div>"
            ],
            "text/plain": [
              "  data_venda data_envio  id_loja  ...  custo_total    lucro tempo_envio\n",
              "0 2008-05-09 2008-05-29      199  ...      2091.48  2456.52          20\n",
              "1 2008-05-12 2008-05-17      306  ...      2091.48  2456.52           5\n",
              "2 2008-05-14 2008-05-20      306  ...      2091.48  2456.52           6\n",
              "3 2008-05-21 2008-05-27      306  ...      2091.48  2456.52           6\n",
              "4 2008-06-20 2008-06-27      306  ...      2091.48  2456.52           7\n",
              "\n",
              "[5 rows x 19 columns]"
            ]
          },
          "metadata": {
            "tags": []
          },
          "execution_count": 11
        }
      ]
    },
    {
      "cell_type": "markdown",
      "metadata": {
        "id": "bJaGGDNELYSQ"
      },
      "source": [
        "*Visualizando os dados de 2008 ordenados pela data*"
      ]
    },
    {
      "cell_type": "code",
      "metadata": {
        "colab": {
          "base_uri": "https://localhost:8080/",
          "height": 983
        },
        "id": "FR5nDd69HpFh",
        "outputId": "092f482b-7902-44e4-f62c-67c2f0e651bf"
      },
      "source": [
        "df_ano_2008 = df.data_venda.dt.year == 2008\n",
        "df.loc[df_ano_2008].sort_values('data_envio')"
      ],
      "execution_count": 12,
      "outputs": [
        {
          "output_type": "execute_result",
          "data": {
            "text/html": [
              "<div>\n",
              "<style scoped>\n",
              "    .dataframe tbody tr th:only-of-type {\n",
              "        vertical-align: middle;\n",
              "    }\n",
              "\n",
              "    .dataframe tbody tr th {\n",
              "        vertical-align: top;\n",
              "    }\n",
              "\n",
              "    .dataframe thead th {\n",
              "        text-align: right;\n",
              "    }\n",
              "</style>\n",
              "<table border=\"1\" class=\"dataframe\">\n",
              "  <thead>\n",
              "    <tr style=\"text-align: right;\">\n",
              "      <th></th>\n",
              "      <th>data_venda</th>\n",
              "      <th>data_envio</th>\n",
              "      <th>id_loja</th>\n",
              "      <th>id_produto</th>\n",
              "      <th>id_cliente</th>\n",
              "      <th>num_venda</th>\n",
              "      <th>custo_unitario</th>\n",
              "      <th>preco_unitario</th>\n",
              "      <th>quantidade</th>\n",
              "      <th>valor_desconto</th>\n",
              "      <th>valor_venda</th>\n",
              "      <th>produto</th>\n",
              "      <th>fabricante</th>\n",
              "      <th>marca</th>\n",
              "      <th>classe</th>\n",
              "      <th>cor</th>\n",
              "      <th>custo_total</th>\n",
              "      <th>lucro</th>\n",
              "      <th>tempo_envio</th>\n",
              "    </tr>\n",
              "  </thead>\n",
              "  <tbody>\n",
              "    <tr>\n",
              "      <th>474</th>\n",
              "      <td>2008-01-02</td>\n",
              "      <td>2008-01-12</td>\n",
              "      <td>306</td>\n",
              "      <td>1226</td>\n",
              "      <td>19046</td>\n",
              "      <td>200801024CS525</td>\n",
              "      <td>330.99</td>\n",
              "      <td>999.00</td>\n",
              "      <td>12</td>\n",
              "      <td>2397.600</td>\n",
              "      <td>9590.400</td>\n",
              "      <td>Fabrikam Trendsetter 1/3'' 8.5mm X200 Black</td>\n",
              "      <td>Fabrikam, Inc.</td>\n",
              "      <td>Fabrikam</td>\n",
              "      <td>Regular</td>\n",
              "      <td>Black</td>\n",
              "      <td>3971.88</td>\n",
              "      <td>5618.520</td>\n",
              "      <td>10</td>\n",
              "    </tr>\n",
              "    <tr>\n",
              "      <th>599</th>\n",
              "      <td>2008-01-02</td>\n",
              "      <td>2008-01-12</td>\n",
              "      <td>306</td>\n",
              "      <td>1155</td>\n",
              "      <td>19046</td>\n",
              "      <td>200801024CS525</td>\n",
              "      <td>324.69</td>\n",
              "      <td>980.00</td>\n",
              "      <td>8</td>\n",
              "      <td>1568.000</td>\n",
              "      <td>6272.000</td>\n",
              "      <td>Fabrikam Trendsetter 2/3'' 17mm X100 Black</td>\n",
              "      <td>Fabrikam, Inc.</td>\n",
              "      <td>Fabrikam</td>\n",
              "      <td>Regular</td>\n",
              "      <td>Black</td>\n",
              "      <td>2597.52</td>\n",
              "      <td>3674.480</td>\n",
              "      <td>10</td>\n",
              "    </tr>\n",
              "    <tr>\n",
              "      <th>845</th>\n",
              "      <td>2008-01-04</td>\n",
              "      <td>2008-01-14</td>\n",
              "      <td>306</td>\n",
              "      <td>1203</td>\n",
              "      <td>19046</td>\n",
              "      <td>200801044CS525</td>\n",
              "      <td>324.69</td>\n",
              "      <td>980.00</td>\n",
              "      <td>6</td>\n",
              "      <td>1176.000</td>\n",
              "      <td>4704.000</td>\n",
              "      <td>Fabrikam Trendsetter 2/3'' 17mm X100 Grey</td>\n",
              "      <td>Fabrikam, Inc.</td>\n",
              "      <td>Fabrikam</td>\n",
              "      <td>Regular</td>\n",
              "      <td>Grey</td>\n",
              "      <td>1948.14</td>\n",
              "      <td>2755.860</td>\n",
              "      <td>10</td>\n",
              "    </tr>\n",
              "    <tr>\n",
              "      <th>552</th>\n",
              "      <td>2008-01-04</td>\n",
              "      <td>2008-01-14</td>\n",
              "      <td>306</td>\n",
              "      <td>1155</td>\n",
              "      <td>19046</td>\n",
              "      <td>200801044CS525</td>\n",
              "      <td>324.69</td>\n",
              "      <td>980.00</td>\n",
              "      <td>4</td>\n",
              "      <td>784.000</td>\n",
              "      <td>3136.000</td>\n",
              "      <td>Fabrikam Trendsetter 2/3'' 17mm X100 Black</td>\n",
              "      <td>Fabrikam, Inc.</td>\n",
              "      <td>Fabrikam</td>\n",
              "      <td>Regular</td>\n",
              "      <td>Black</td>\n",
              "      <td>1298.76</td>\n",
              "      <td>1837.240</td>\n",
              "      <td>10</td>\n",
              "    </tr>\n",
              "    <tr>\n",
              "      <th>573</th>\n",
              "      <td>2008-01-04</td>\n",
              "      <td>2008-01-14</td>\n",
              "      <td>306</td>\n",
              "      <td>1178</td>\n",
              "      <td>19046</td>\n",
              "      <td>200801044CS525</td>\n",
              "      <td>330.66</td>\n",
              "      <td>998.00</td>\n",
              "      <td>8</td>\n",
              "      <td>1596.800</td>\n",
              "      <td>6387.200</td>\n",
              "      <td>Fabrikam Trendsetter 1/3'' 8.5mm X200 White</td>\n",
              "      <td>Fabrikam, Inc.</td>\n",
              "      <td>Fabrikam</td>\n",
              "      <td>Regular</td>\n",
              "      <td>White</td>\n",
              "      <td>2645.28</td>\n",
              "      <td>3741.920</td>\n",
              "      <td>10</td>\n",
              "    </tr>\n",
              "    <tr>\n",
              "      <th>...</th>\n",
              "      <td>...</td>\n",
              "      <td>...</td>\n",
              "      <td>...</td>\n",
              "      <td>...</td>\n",
              "      <td>...</td>\n",
              "      <td>...</td>\n",
              "      <td>...</td>\n",
              "      <td>...</td>\n",
              "      <td>...</td>\n",
              "      <td>...</td>\n",
              "      <td>...</td>\n",
              "      <td>...</td>\n",
              "      <td>...</td>\n",
              "      <td>...</td>\n",
              "      <td>...</td>\n",
              "      <td>...</td>\n",
              "      <td>...</td>\n",
              "      <td>...</td>\n",
              "      <td>...</td>\n",
              "    </tr>\n",
              "    <tr>\n",
              "      <th>705</th>\n",
              "      <td>2008-12-31</td>\n",
              "      <td>2009-01-04</td>\n",
              "      <td>306</td>\n",
              "      <td>2496</td>\n",
              "      <td>19060</td>\n",
              "      <td>200812315CS676</td>\n",
              "      <td>5.09</td>\n",
              "      <td>9.99</td>\n",
              "      <td>96</td>\n",
              "      <td>191.808</td>\n",
              "      <td>767.232</td>\n",
              "      <td>Headphone Adapter for Contoso Phone E130 Silver</td>\n",
              "      <td>Contoso, Ltd</td>\n",
              "      <td>Contoso</td>\n",
              "      <td>Economy</td>\n",
              "      <td>Silver</td>\n",
              "      <td>488.64</td>\n",
              "      <td>278.592</td>\n",
              "      <td>4</td>\n",
              "    </tr>\n",
              "    <tr>\n",
              "      <th>453</th>\n",
              "      <td>2008-12-22</td>\n",
              "      <td>2009-01-04</td>\n",
              "      <td>199</td>\n",
              "      <td>366</td>\n",
              "      <td>18899</td>\n",
              "      <td>200812223CS807</td>\n",
              "      <td>348.58</td>\n",
              "      <td>758.00</td>\n",
              "      <td>16</td>\n",
              "      <td>2425.600</td>\n",
              "      <td>9702.400</td>\n",
              "      <td>Adventure Works Laptop15.4W M1548 Black</td>\n",
              "      <td>Adventure Works</td>\n",
              "      <td>Adventure Works</td>\n",
              "      <td>Regular</td>\n",
              "      <td>Black</td>\n",
              "      <td>5577.28</td>\n",
              "      <td>4125.120</td>\n",
              "      <td>13</td>\n",
              "    </tr>\n",
              "    <tr>\n",
              "      <th>704</th>\n",
              "      <td>2008-12-31</td>\n",
              "      <td>2009-01-06</td>\n",
              "      <td>307</td>\n",
              "      <td>2496</td>\n",
              "      <td>19112</td>\n",
              "      <td>200812315CS679</td>\n",
              "      <td>5.09</td>\n",
              "      <td>9.99</td>\n",
              "      <td>156</td>\n",
              "      <td>233.766</td>\n",
              "      <td>1324.674</td>\n",
              "      <td>Headphone Adapter for Contoso Phone E130 Silver</td>\n",
              "      <td>Contoso, Ltd</td>\n",
              "      <td>Contoso</td>\n",
              "      <td>Economy</td>\n",
              "      <td>Silver</td>\n",
              "      <td>794.04</td>\n",
              "      <td>530.634</td>\n",
              "      <td>6</td>\n",
              "    </tr>\n",
              "    <tr>\n",
              "      <th>822</th>\n",
              "      <td>2008-12-31</td>\n",
              "      <td>2009-01-06</td>\n",
              "      <td>199</td>\n",
              "      <td>1202</td>\n",
              "      <td>18902</td>\n",
              "      <td>200812314CS810</td>\n",
              "      <td>330.66</td>\n",
              "      <td>998.00</td>\n",
              "      <td>6</td>\n",
              "      <td>1197.600</td>\n",
              "      <td>4790.400</td>\n",
              "      <td>Fabrikam Trendsetter 1/3'' 8.5mm X200 Grey</td>\n",
              "      <td>Fabrikam, Inc.</td>\n",
              "      <td>Fabrikam</td>\n",
              "      <td>Regular</td>\n",
              "      <td>Grey</td>\n",
              "      <td>1983.96</td>\n",
              "      <td>2806.440</td>\n",
              "      <td>6</td>\n",
              "    </tr>\n",
              "    <tr>\n",
              "      <th>434</th>\n",
              "      <td>2008-12-31</td>\n",
              "      <td>2009-01-06</td>\n",
              "      <td>307</td>\n",
              "      <td>1226</td>\n",
              "      <td>19112</td>\n",
              "      <td>200812314CS679</td>\n",
              "      <td>330.99</td>\n",
              "      <td>999.00</td>\n",
              "      <td>9</td>\n",
              "      <td>1348.650</td>\n",
              "      <td>7642.350</td>\n",
              "      <td>Fabrikam Trendsetter 1/3'' 8.5mm X200 Black</td>\n",
              "      <td>Fabrikam, Inc.</td>\n",
              "      <td>Fabrikam</td>\n",
              "      <td>Regular</td>\n",
              "      <td>Black</td>\n",
              "      <td>2978.91</td>\n",
              "      <td>4663.440</td>\n",
              "      <td>6</td>\n",
              "    </tr>\n",
              "  </tbody>\n",
              "</table>\n",
              "<p>469 rows × 19 columns</p>\n",
              "</div>"
            ],
            "text/plain": [
              "    data_venda data_envio  id_loja  ...  custo_total     lucro tempo_envio\n",
              "474 2008-01-02 2008-01-12      306  ...      3971.88  5618.520          10\n",
              "599 2008-01-02 2008-01-12      306  ...      2597.52  3674.480          10\n",
              "845 2008-01-04 2008-01-14      306  ...      1948.14  2755.860          10\n",
              "552 2008-01-04 2008-01-14      306  ...      1298.76  1837.240          10\n",
              "573 2008-01-04 2008-01-14      306  ...      2645.28  3741.920          10\n",
              "..         ...        ...      ...  ...          ...       ...         ...\n",
              "705 2008-12-31 2009-01-04      306  ...       488.64   278.592           4\n",
              "453 2008-12-22 2009-01-04      199  ...      5577.28  4125.120          13\n",
              "704 2008-12-31 2009-01-06      307  ...       794.04   530.634           6\n",
              "822 2008-12-31 2009-01-06      199  ...      1983.96  2806.440           6\n",
              "434 2008-12-31 2009-01-06      307  ...      2978.91  4663.440           6\n",
              "\n",
              "[469 rows x 19 columns]"
            ]
          },
          "metadata": {
            "tags": []
          },
          "execution_count": 12
        }
      ]
    },
    {
      "cell_type": "markdown",
      "metadata": {
        "id": "nVk48K8zp5JW"
      },
      "source": [
        "Obtendo as empresas que tiveram lucro diário abaixo de 400 em 2008"
      ]
    },
    {
      "cell_type": "code",
      "metadata": {
        "id": "0c08ejEWoiZc"
      },
      "source": [
        "df_lucro_menor_400 = df[df_ano_2008].loc[df['lucro']<400 ]"
      ],
      "execution_count": 13,
      "outputs": []
    },
    {
      "cell_type": "code",
      "metadata": {
        "colab": {
          "base_uri": "https://localhost:8080/",
          "height": 663
        },
        "id": "U67K3-Q3qKRA",
        "outputId": "69b5c457-af95-4d0a-d4f7-b1f1087aac01"
      },
      "source": [
        "df_lucro_menor_400.sort_values('data_venda')"
      ],
      "execution_count": 14,
      "outputs": [
        {
          "output_type": "execute_result",
          "data": {
            "text/html": [
              "<div>\n",
              "<style scoped>\n",
              "    .dataframe tbody tr th:only-of-type {\n",
              "        vertical-align: middle;\n",
              "    }\n",
              "\n",
              "    .dataframe tbody tr th {\n",
              "        vertical-align: top;\n",
              "    }\n",
              "\n",
              "    .dataframe thead th {\n",
              "        text-align: right;\n",
              "    }\n",
              "</style>\n",
              "<table border=\"1\" class=\"dataframe\">\n",
              "  <thead>\n",
              "    <tr style=\"text-align: right;\">\n",
              "      <th></th>\n",
              "      <th>data_venda</th>\n",
              "      <th>data_envio</th>\n",
              "      <th>id_loja</th>\n",
              "      <th>id_produto</th>\n",
              "      <th>id_cliente</th>\n",
              "      <th>num_venda</th>\n",
              "      <th>custo_unitario</th>\n",
              "      <th>preco_unitario</th>\n",
              "      <th>quantidade</th>\n",
              "      <th>valor_desconto</th>\n",
              "      <th>valor_venda</th>\n",
              "      <th>produto</th>\n",
              "      <th>fabricante</th>\n",
              "      <th>marca</th>\n",
              "      <th>classe</th>\n",
              "      <th>cor</th>\n",
              "      <th>custo_total</th>\n",
              "      <th>lucro</th>\n",
              "      <th>tempo_envio</th>\n",
              "    </tr>\n",
              "  </thead>\n",
              "  <tbody>\n",
              "    <tr>\n",
              "      <th>686</th>\n",
              "      <td>2008-08-17</td>\n",
              "      <td>2008-08-26</td>\n",
              "      <td>306</td>\n",
              "      <td>2496</td>\n",
              "      <td>19055</td>\n",
              "      <td>200808175CS608</td>\n",
              "      <td>5.09</td>\n",
              "      <td>9.99</td>\n",
              "      <td>37</td>\n",
              "      <td>36.963</td>\n",
              "      <td>332.667</td>\n",
              "      <td>Headphone Adapter for Contoso Phone E130 Silver</td>\n",
              "      <td>Contoso, Ltd</td>\n",
              "      <td>Contoso</td>\n",
              "      <td>Economy</td>\n",
              "      <td>Silver</td>\n",
              "      <td>188.33</td>\n",
              "      <td>144.337</td>\n",
              "      <td>9</td>\n",
              "    </tr>\n",
              "    <tr>\n",
              "      <th>286</th>\n",
              "      <td>2008-10-01</td>\n",
              "      <td>2008-10-11</td>\n",
              "      <td>199</td>\n",
              "      <td>2497</td>\n",
              "      <td>18876</td>\n",
              "      <td>200810015CS707</td>\n",
              "      <td>5.09</td>\n",
              "      <td>9.99</td>\n",
              "      <td>16</td>\n",
              "      <td>0.000</td>\n",
              "      <td>159.840</td>\n",
              "      <td>Headphone Adapter for Contoso Phone E130 White</td>\n",
              "      <td>Contoso, Ltd</td>\n",
              "      <td>Contoso</td>\n",
              "      <td>Economy</td>\n",
              "      <td>White</td>\n",
              "      <td>81.44</td>\n",
              "      <td>78.400</td>\n",
              "      <td>10</td>\n",
              "    </tr>\n",
              "    <tr>\n",
              "      <th>744</th>\n",
              "      <td>2008-10-09</td>\n",
              "      <td>2008-10-20</td>\n",
              "      <td>306</td>\n",
              "      <td>2497</td>\n",
              "      <td>19057</td>\n",
              "      <td>200810095CS636</td>\n",
              "      <td>5.09</td>\n",
              "      <td>9.99</td>\n",
              "      <td>96</td>\n",
              "      <td>191.808</td>\n",
              "      <td>767.232</td>\n",
              "      <td>Headphone Adapter for Contoso Phone E130 White</td>\n",
              "      <td>Contoso, Ltd</td>\n",
              "      <td>Contoso</td>\n",
              "      <td>Economy</td>\n",
              "      <td>White</td>\n",
              "      <td>488.64</td>\n",
              "      <td>278.592</td>\n",
              "      <td>11</td>\n",
              "    </tr>\n",
              "    <tr>\n",
              "      <th>697</th>\n",
              "      <td>2008-12-09</td>\n",
              "      <td>2008-12-13</td>\n",
              "      <td>306</td>\n",
              "      <td>2496</td>\n",
              "      <td>19060</td>\n",
              "      <td>200812095CS676</td>\n",
              "      <td>5.09</td>\n",
              "      <td>9.99</td>\n",
              "      <td>96</td>\n",
              "      <td>191.808</td>\n",
              "      <td>767.232</td>\n",
              "      <td>Headphone Adapter for Contoso Phone E130 Silver</td>\n",
              "      <td>Contoso, Ltd</td>\n",
              "      <td>Contoso</td>\n",
              "      <td>Economy</td>\n",
              "      <td>Silver</td>\n",
              "      <td>488.64</td>\n",
              "      <td>278.592</td>\n",
              "      <td>4</td>\n",
              "    </tr>\n",
              "    <tr>\n",
              "      <th>700</th>\n",
              "      <td>2008-12-20</td>\n",
              "      <td>2008-12-24</td>\n",
              "      <td>306</td>\n",
              "      <td>2496</td>\n",
              "      <td>19060</td>\n",
              "      <td>200812205CS676</td>\n",
              "      <td>5.09</td>\n",
              "      <td>9.99</td>\n",
              "      <td>96</td>\n",
              "      <td>191.808</td>\n",
              "      <td>767.232</td>\n",
              "      <td>Headphone Adapter for Contoso Phone E130 Silver</td>\n",
              "      <td>Contoso, Ltd</td>\n",
              "      <td>Contoso</td>\n",
              "      <td>Economy</td>\n",
              "      <td>Silver</td>\n",
              "      <td>488.64</td>\n",
              "      <td>278.592</td>\n",
              "      <td>4</td>\n",
              "    </tr>\n",
              "    <tr>\n",
              "      <th>705</th>\n",
              "      <td>2008-12-31</td>\n",
              "      <td>2009-01-04</td>\n",
              "      <td>306</td>\n",
              "      <td>2496</td>\n",
              "      <td>19060</td>\n",
              "      <td>200812315CS676</td>\n",
              "      <td>5.09</td>\n",
              "      <td>9.99</td>\n",
              "      <td>96</td>\n",
              "      <td>191.808</td>\n",
              "      <td>767.232</td>\n",
              "      <td>Headphone Adapter for Contoso Phone E130 Silver</td>\n",
              "      <td>Contoso, Ltd</td>\n",
              "      <td>Contoso</td>\n",
              "      <td>Economy</td>\n",
              "      <td>Silver</td>\n",
              "      <td>488.64</td>\n",
              "      <td>278.592</td>\n",
              "      <td>4</td>\n",
              "    </tr>\n",
              "  </tbody>\n",
              "</table>\n",
              "</div>"
            ],
            "text/plain": [
              "    data_venda data_envio  id_loja  ...  custo_total    lucro tempo_envio\n",
              "686 2008-08-17 2008-08-26      306  ...       188.33  144.337           9\n",
              "286 2008-10-01 2008-10-11      199  ...        81.44   78.400          10\n",
              "744 2008-10-09 2008-10-20      306  ...       488.64  278.592          11\n",
              "697 2008-12-09 2008-12-13      306  ...       488.64  278.592           4\n",
              "700 2008-12-20 2008-12-24      306  ...       488.64  278.592           4\n",
              "705 2008-12-31 2009-01-04      306  ...       488.64  278.592           4\n",
              "\n",
              "[6 rows x 19 columns]"
            ]
          },
          "metadata": {
            "tags": []
          },
          "execution_count": 14
        }
      ]
    },
    {
      "cell_type": "markdown",
      "metadata": {
        "id": "UiqycgT1t-ac"
      },
      "source": [
        "Lucro mensal das empresas em 2008"
      ]
    },
    {
      "cell_type": "code",
      "metadata": {
        "colab": {
          "base_uri": "https://localhost:8080/",
          "height": 1000
        },
        "id": "UfpFYk0Ps5W6",
        "outputId": "a83ee208-5af9-46fa-caa2-6f34c27f77c8"
      },
      "source": [
        "df[df_ano_2008].groupby([df[df_ano_2008].data_venda.dt.month, 'marca'])['lucro'].sum().reset_index()"
      ],
      "execution_count": 15,
      "outputs": [
        {
          "output_type": "execute_result",
          "data": {
            "text/html": [
              "<div>\n",
              "<style scoped>\n",
              "    .dataframe tbody tr th:only-of-type {\n",
              "        vertical-align: middle;\n",
              "    }\n",
              "\n",
              "    .dataframe tbody tr th {\n",
              "        vertical-align: top;\n",
              "    }\n",
              "\n",
              "    .dataframe thead th {\n",
              "        text-align: right;\n",
              "    }\n",
              "</style>\n",
              "<table border=\"1\" class=\"dataframe\">\n",
              "  <thead>\n",
              "    <tr style=\"text-align: right;\">\n",
              "      <th></th>\n",
              "      <th>data_venda</th>\n",
              "      <th>marca</th>\n",
              "      <th>lucro</th>\n",
              "    </tr>\n",
              "  </thead>\n",
              "  <tbody>\n",
              "    <tr>\n",
              "      <th>0</th>\n",
              "      <td>1</td>\n",
              "      <td>Adventure Works</td>\n",
              "      <td>10008.600</td>\n",
              "    </tr>\n",
              "    <tr>\n",
              "      <th>1</th>\n",
              "      <td>1</td>\n",
              "      <td>Fabrikam</td>\n",
              "      <td>62624.840</td>\n",
              "    </tr>\n",
              "    <tr>\n",
              "      <th>2</th>\n",
              "      <td>2</td>\n",
              "      <td>Adventure Works</td>\n",
              "      <td>35425.160</td>\n",
              "    </tr>\n",
              "    <tr>\n",
              "      <th>3</th>\n",
              "      <td>2</td>\n",
              "      <td>Fabrikam</td>\n",
              "      <td>103531.730</td>\n",
              "    </tr>\n",
              "    <tr>\n",
              "      <th>4</th>\n",
              "      <td>3</td>\n",
              "      <td>Adventure Works</td>\n",
              "      <td>17840.640</td>\n",
              "    </tr>\n",
              "    <tr>\n",
              "      <th>5</th>\n",
              "      <td>3</td>\n",
              "      <td>Fabrikam</td>\n",
              "      <td>82805.680</td>\n",
              "    </tr>\n",
              "    <tr>\n",
              "      <th>6</th>\n",
              "      <td>4</td>\n",
              "      <td>Adventure Works</td>\n",
              "      <td>11623.540</td>\n",
              "    </tr>\n",
              "    <tr>\n",
              "      <th>7</th>\n",
              "      <td>4</td>\n",
              "      <td>Fabrikam</td>\n",
              "      <td>98693.010</td>\n",
              "    </tr>\n",
              "    <tr>\n",
              "      <th>8</th>\n",
              "      <td>5</td>\n",
              "      <td>Adventure Works</td>\n",
              "      <td>17620.520</td>\n",
              "    </tr>\n",
              "    <tr>\n",
              "      <th>9</th>\n",
              "      <td>5</td>\n",
              "      <td>Contoso</td>\n",
              "      <td>6336.720</td>\n",
              "    </tr>\n",
              "    <tr>\n",
              "      <th>10</th>\n",
              "      <td>5</td>\n",
              "      <td>Fabrikam</td>\n",
              "      <td>195809.700</td>\n",
              "    </tr>\n",
              "    <tr>\n",
              "      <th>11</th>\n",
              "      <td>6</td>\n",
              "      <td>Adventure Works</td>\n",
              "      <td>44612.320</td>\n",
              "    </tr>\n",
              "    <tr>\n",
              "      <th>12</th>\n",
              "      <td>6</td>\n",
              "      <td>Contoso</td>\n",
              "      <td>12699.696</td>\n",
              "    </tr>\n",
              "    <tr>\n",
              "      <th>13</th>\n",
              "      <td>6</td>\n",
              "      <td>Fabrikam</td>\n",
              "      <td>255172.350</td>\n",
              "    </tr>\n",
              "    <tr>\n",
              "      <th>14</th>\n",
              "      <td>7</td>\n",
              "      <td>Adventure Works</td>\n",
              "      <td>35392.640</td>\n",
              "    </tr>\n",
              "    <tr>\n",
              "      <th>15</th>\n",
              "      <td>7</td>\n",
              "      <td>Contoso</td>\n",
              "      <td>3528.000</td>\n",
              "    </tr>\n",
              "    <tr>\n",
              "      <th>16</th>\n",
              "      <td>7</td>\n",
              "      <td>Fabrikam</td>\n",
              "      <td>126796.990</td>\n",
              "    </tr>\n",
              "    <tr>\n",
              "      <th>17</th>\n",
              "      <td>8</td>\n",
              "      <td>Adventure Works</td>\n",
              "      <td>12131.500</td>\n",
              "    </tr>\n",
              "    <tr>\n",
              "      <th>18</th>\n",
              "      <td>8</td>\n",
              "      <td>Contoso</td>\n",
              "      <td>4524.109</td>\n",
              "    </tr>\n",
              "    <tr>\n",
              "      <th>19</th>\n",
              "      <td>8</td>\n",
              "      <td>Fabrikam</td>\n",
              "      <td>80368.500</td>\n",
              "    </tr>\n",
              "    <tr>\n",
              "      <th>20</th>\n",
              "      <td>9</td>\n",
              "      <td>Adventure Works</td>\n",
              "      <td>18470.280</td>\n",
              "    </tr>\n",
              "    <tr>\n",
              "      <th>21</th>\n",
              "      <td>9</td>\n",
              "      <td>Contoso</td>\n",
              "      <td>4634.388</td>\n",
              "    </tr>\n",
              "    <tr>\n",
              "      <th>22</th>\n",
              "      <td>9</td>\n",
              "      <td>Fabrikam</td>\n",
              "      <td>137519.760</td>\n",
              "    </tr>\n",
              "    <tr>\n",
              "      <th>23</th>\n",
              "      <td>10</td>\n",
              "      <td>Adventure Works</td>\n",
              "      <td>33467.220</td>\n",
              "    </tr>\n",
              "    <tr>\n",
              "      <th>24</th>\n",
              "      <td>10</td>\n",
              "      <td>Contoso</td>\n",
              "      <td>5060.992</td>\n",
              "    </tr>\n",
              "    <tr>\n",
              "      <th>25</th>\n",
              "      <td>10</td>\n",
              "      <td>Fabrikam</td>\n",
              "      <td>156258.160</td>\n",
              "    </tr>\n",
              "    <tr>\n",
              "      <th>26</th>\n",
              "      <td>11</td>\n",
              "      <td>Adventure Works</td>\n",
              "      <td>30542.940</td>\n",
              "    </tr>\n",
              "    <tr>\n",
              "      <th>27</th>\n",
              "      <td>11</td>\n",
              "      <td>Contoso</td>\n",
              "      <td>7866.768</td>\n",
              "    </tr>\n",
              "    <tr>\n",
              "      <th>28</th>\n",
              "      <td>11</td>\n",
              "      <td>Fabrikam</td>\n",
              "      <td>99393.040</td>\n",
              "    </tr>\n",
              "    <tr>\n",
              "      <th>29</th>\n",
              "      <td>12</td>\n",
              "      <td>Adventure Works</td>\n",
              "      <td>39505.800</td>\n",
              "    </tr>\n",
              "    <tr>\n",
              "      <th>30</th>\n",
              "      <td>12</td>\n",
              "      <td>Contoso</td>\n",
              "      <td>11765.328</td>\n",
              "    </tr>\n",
              "    <tr>\n",
              "      <th>31</th>\n",
              "      <td>12</td>\n",
              "      <td>Fabrikam</td>\n",
              "      <td>158046.790</td>\n",
              "    </tr>\n",
              "  </tbody>\n",
              "</table>\n",
              "</div>"
            ],
            "text/plain": [
              "    data_venda            marca       lucro\n",
              "0            1  Adventure Works   10008.600\n",
              "1            1         Fabrikam   62624.840\n",
              "2            2  Adventure Works   35425.160\n",
              "3            2         Fabrikam  103531.730\n",
              "4            3  Adventure Works   17840.640\n",
              "5            3         Fabrikam   82805.680\n",
              "6            4  Adventure Works   11623.540\n",
              "7            4         Fabrikam   98693.010\n",
              "8            5  Adventure Works   17620.520\n",
              "9            5          Contoso    6336.720\n",
              "10           5         Fabrikam  195809.700\n",
              "11           6  Adventure Works   44612.320\n",
              "12           6          Contoso   12699.696\n",
              "13           6         Fabrikam  255172.350\n",
              "14           7  Adventure Works   35392.640\n",
              "15           7          Contoso    3528.000\n",
              "16           7         Fabrikam  126796.990\n",
              "17           8  Adventure Works   12131.500\n",
              "18           8          Contoso    4524.109\n",
              "19           8         Fabrikam   80368.500\n",
              "20           9  Adventure Works   18470.280\n",
              "21           9          Contoso    4634.388\n",
              "22           9         Fabrikam  137519.760\n",
              "23          10  Adventure Works   33467.220\n",
              "24          10          Contoso    5060.992\n",
              "25          10         Fabrikam  156258.160\n",
              "26          11  Adventure Works   30542.940\n",
              "27          11          Contoso    7866.768\n",
              "28          11         Fabrikam   99393.040\n",
              "29          12  Adventure Works   39505.800\n",
              "30          12          Contoso   11765.328\n",
              "31          12         Fabrikam  158046.790"
            ]
          },
          "metadata": {
            "tags": []
          },
          "execution_count": 15
        }
      ]
    },
    {
      "cell_type": "markdown",
      "metadata": {
        "id": "OdxTPGEmucQv"
      },
      "source": [
        "Lucro mensal das empresas durante 2008 e 2009"
      ]
    },
    {
      "cell_type": "code",
      "metadata": {
        "colab": {
          "base_uri": "https://localhost:8080/",
          "height": 1000
        },
        "id": "UkChnjwlmszI",
        "outputId": "764746c8-d3a6-46c9-b0ba-4c69655ae989"
      },
      "source": [
        "lucro_mensal_2008_2009 = df.groupby([df.data_venda.dt.month, 'marca'])['lucro'].sum().reset_index()\n",
        "lucro_mensal_2008_2009"
      ],
      "execution_count": 16,
      "outputs": [
        {
          "output_type": "execute_result",
          "data": {
            "text/html": [
              "<div>\n",
              "<style scoped>\n",
              "    .dataframe tbody tr th:only-of-type {\n",
              "        vertical-align: middle;\n",
              "    }\n",
              "\n",
              "    .dataframe tbody tr th {\n",
              "        vertical-align: top;\n",
              "    }\n",
              "\n",
              "    .dataframe thead th {\n",
              "        text-align: right;\n",
              "    }\n",
              "</style>\n",
              "<table border=\"1\" class=\"dataframe\">\n",
              "  <thead>\n",
              "    <tr style=\"text-align: right;\">\n",
              "      <th></th>\n",
              "      <th>data_venda</th>\n",
              "      <th>marca</th>\n",
              "      <th>lucro</th>\n",
              "    </tr>\n",
              "  </thead>\n",
              "  <tbody>\n",
              "    <tr>\n",
              "      <th>0</th>\n",
              "      <td>1</td>\n",
              "      <td>Adventure Works</td>\n",
              "      <td>41301.5600</td>\n",
              "    </tr>\n",
              "    <tr>\n",
              "      <th>1</th>\n",
              "      <td>1</td>\n",
              "      <td>Contoso</td>\n",
              "      <td>6920.2320</td>\n",
              "    </tr>\n",
              "    <tr>\n",
              "      <th>2</th>\n",
              "      <td>1</td>\n",
              "      <td>Fabrikam</td>\n",
              "      <td>155130.6900</td>\n",
              "    </tr>\n",
              "    <tr>\n",
              "      <th>3</th>\n",
              "      <td>2</td>\n",
              "      <td>Adventure Works</td>\n",
              "      <td>103688.7000</td>\n",
              "    </tr>\n",
              "    <tr>\n",
              "      <th>4</th>\n",
              "      <td>2</td>\n",
              "      <td>Contoso</td>\n",
              "      <td>8512.4736</td>\n",
              "    </tr>\n",
              "    <tr>\n",
              "      <th>5</th>\n",
              "      <td>2</td>\n",
              "      <td>Fabrikam</td>\n",
              "      <td>205984.6400</td>\n",
              "    </tr>\n",
              "    <tr>\n",
              "      <th>6</th>\n",
              "      <td>3</td>\n",
              "      <td>Adventure Works</td>\n",
              "      <td>50832.9200</td>\n",
              "    </tr>\n",
              "    <tr>\n",
              "      <th>7</th>\n",
              "      <td>3</td>\n",
              "      <td>Contoso</td>\n",
              "      <td>5985.6840</td>\n",
              "    </tr>\n",
              "    <tr>\n",
              "      <th>8</th>\n",
              "      <td>3</td>\n",
              "      <td>Fabrikam</td>\n",
              "      <td>191365.9700</td>\n",
              "    </tr>\n",
              "    <tr>\n",
              "      <th>9</th>\n",
              "      <td>4</td>\n",
              "      <td>Adventure Works</td>\n",
              "      <td>21950.8000</td>\n",
              "    </tr>\n",
              "    <tr>\n",
              "      <th>10</th>\n",
              "      <td>4</td>\n",
              "      <td>Contoso</td>\n",
              "      <td>3056.4960</td>\n",
              "    </tr>\n",
              "    <tr>\n",
              "      <th>11</th>\n",
              "      <td>4</td>\n",
              "      <td>Fabrikam</td>\n",
              "      <td>151663.6400</td>\n",
              "    </tr>\n",
              "    <tr>\n",
              "      <th>12</th>\n",
              "      <td>5</td>\n",
              "      <td>Adventure Works</td>\n",
              "      <td>56924.8400</td>\n",
              "    </tr>\n",
              "    <tr>\n",
              "      <th>13</th>\n",
              "      <td>5</td>\n",
              "      <td>Contoso</td>\n",
              "      <td>9864.7200</td>\n",
              "    </tr>\n",
              "    <tr>\n",
              "      <th>14</th>\n",
              "      <td>5</td>\n",
              "      <td>Fabrikam</td>\n",
              "      <td>243517.3800</td>\n",
              "    </tr>\n",
              "    <tr>\n",
              "      <th>15</th>\n",
              "      <td>6</td>\n",
              "      <td>Adventure Works</td>\n",
              "      <td>81703.9800</td>\n",
              "    </tr>\n",
              "    <tr>\n",
              "      <th>16</th>\n",
              "      <td>6</td>\n",
              "      <td>Contoso</td>\n",
              "      <td>39222.5760</td>\n",
              "    </tr>\n",
              "    <tr>\n",
              "      <th>17</th>\n",
              "      <td>6</td>\n",
              "      <td>Fabrikam</td>\n",
              "      <td>391868.2200</td>\n",
              "    </tr>\n",
              "    <tr>\n",
              "      <th>18</th>\n",
              "      <td>7</td>\n",
              "      <td>Adventure Works</td>\n",
              "      <td>97519.2600</td>\n",
              "    </tr>\n",
              "    <tr>\n",
              "      <th>19</th>\n",
              "      <td>7</td>\n",
              "      <td>Contoso</td>\n",
              "      <td>21846.2400</td>\n",
              "    </tr>\n",
              "    <tr>\n",
              "      <th>20</th>\n",
              "      <td>7</td>\n",
              "      <td>Fabrikam</td>\n",
              "      <td>273486.6400</td>\n",
              "    </tr>\n",
              "    <tr>\n",
              "      <th>21</th>\n",
              "      <td>8</td>\n",
              "      <td>Adventure Works</td>\n",
              "      <td>21806.4800</td>\n",
              "    </tr>\n",
              "    <tr>\n",
              "      <th>22</th>\n",
              "      <td>8</td>\n",
              "      <td>Contoso</td>\n",
              "      <td>10141.5490</td>\n",
              "    </tr>\n",
              "    <tr>\n",
              "      <th>23</th>\n",
              "      <td>8</td>\n",
              "      <td>Fabrikam</td>\n",
              "      <td>111832.5000</td>\n",
              "    </tr>\n",
              "    <tr>\n",
              "      <th>24</th>\n",
              "      <td>9</td>\n",
              "      <td>Adventure Works</td>\n",
              "      <td>46220.5800</td>\n",
              "    </tr>\n",
              "    <tr>\n",
              "      <th>25</th>\n",
              "      <td>9</td>\n",
              "      <td>Contoso</td>\n",
              "      <td>15060.8520</td>\n",
              "    </tr>\n",
              "    <tr>\n",
              "      <th>26</th>\n",
              "      <td>9</td>\n",
              "      <td>Fabrikam</td>\n",
              "      <td>183295.6200</td>\n",
              "    </tr>\n",
              "    <tr>\n",
              "      <th>27</th>\n",
              "      <td>10</td>\n",
              "      <td>Adventure Works</td>\n",
              "      <td>63690.0000</td>\n",
              "    </tr>\n",
              "    <tr>\n",
              "      <th>28</th>\n",
              "      <td>10</td>\n",
              "      <td>Contoso</td>\n",
              "      <td>24786.8640</td>\n",
              "    </tr>\n",
              "    <tr>\n",
              "      <th>29</th>\n",
              "      <td>10</td>\n",
              "      <td>Fabrikam</td>\n",
              "      <td>236987.5600</td>\n",
              "    </tr>\n",
              "    <tr>\n",
              "      <th>30</th>\n",
              "      <td>11</td>\n",
              "      <td>Adventure Works</td>\n",
              "      <td>60844.0200</td>\n",
              "    </tr>\n",
              "    <tr>\n",
              "      <th>31</th>\n",
              "      <td>11</td>\n",
              "      <td>Contoso</td>\n",
              "      <td>21375.0240</td>\n",
              "    </tr>\n",
              "    <tr>\n",
              "      <th>32</th>\n",
              "      <td>11</td>\n",
              "      <td>Fabrikam</td>\n",
              "      <td>187785.9300</td>\n",
              "    </tr>\n",
              "    <tr>\n",
              "      <th>33</th>\n",
              "      <td>12</td>\n",
              "      <td>Adventure Works</td>\n",
              "      <td>65553.1000</td>\n",
              "    </tr>\n",
              "    <tr>\n",
              "      <th>34</th>\n",
              "      <td>12</td>\n",
              "      <td>Contoso</td>\n",
              "      <td>27902.2420</td>\n",
              "    </tr>\n",
              "    <tr>\n",
              "      <th>35</th>\n",
              "      <td>12</td>\n",
              "      <td>Fabrikam</td>\n",
              "      <td>258193.1100</td>\n",
              "    </tr>\n",
              "  </tbody>\n",
              "</table>\n",
              "</div>"
            ],
            "text/plain": [
              "    data_venda            marca        lucro\n",
              "0            1  Adventure Works   41301.5600\n",
              "1            1          Contoso    6920.2320\n",
              "2            1         Fabrikam  155130.6900\n",
              "3            2  Adventure Works  103688.7000\n",
              "4            2          Contoso    8512.4736\n",
              "5            2         Fabrikam  205984.6400\n",
              "6            3  Adventure Works   50832.9200\n",
              "7            3          Contoso    5985.6840\n",
              "8            3         Fabrikam  191365.9700\n",
              "9            4  Adventure Works   21950.8000\n",
              "10           4          Contoso    3056.4960\n",
              "11           4         Fabrikam  151663.6400\n",
              "12           5  Adventure Works   56924.8400\n",
              "13           5          Contoso    9864.7200\n",
              "14           5         Fabrikam  243517.3800\n",
              "15           6  Adventure Works   81703.9800\n",
              "16           6          Contoso   39222.5760\n",
              "17           6         Fabrikam  391868.2200\n",
              "18           7  Adventure Works   97519.2600\n",
              "19           7          Contoso   21846.2400\n",
              "20           7         Fabrikam  273486.6400\n",
              "21           8  Adventure Works   21806.4800\n",
              "22           8          Contoso   10141.5490\n",
              "23           8         Fabrikam  111832.5000\n",
              "24           9  Adventure Works   46220.5800\n",
              "25           9          Contoso   15060.8520\n",
              "26           9         Fabrikam  183295.6200\n",
              "27          10  Adventure Works   63690.0000\n",
              "28          10          Contoso   24786.8640\n",
              "29          10         Fabrikam  236987.5600\n",
              "30          11  Adventure Works   60844.0200\n",
              "31          11          Contoso   21375.0240\n",
              "32          11         Fabrikam  187785.9300\n",
              "33          12  Adventure Works   65553.1000\n",
              "34          12          Contoso   27902.2420\n",
              "35          12         Fabrikam  258193.1100"
            ]
          },
          "metadata": {
            "tags": []
          },
          "execution_count": 16
        }
      ]
    },
    {
      "cell_type": "markdown",
      "metadata": {
        "id": "rJnzIieXvY0f"
      },
      "source": [
        "Descobrindo qual empresa mais lucrou nos últimos dois anos"
      ]
    },
    {
      "cell_type": "code",
      "metadata": {
        "colab": {
          "base_uri": "https://localhost:8080/"
        },
        "id": "gHPiUwjM4S8z",
        "outputId": "20c05f6e-052d-4c86-9360-e857ec14b617"
      },
      "source": [
        "empresa_que_mais_lucrou = lucro_mensal_2008_2009.max()\n",
        "empresa_que_mais_lucrou"
      ],
      "execution_count": 17,
      "outputs": [
        {
          "output_type": "execute_result",
          "data": {
            "text/plain": [
              "data_venda          12\n",
              "marca         Fabrikam\n",
              "lucro           391868\n",
              "dtype: object"
            ]
          },
          "metadata": {
            "tags": []
          },
          "execution_count": 17
        }
      ]
    },
    {
      "cell_type": "markdown",
      "metadata": {
        "id": "DiQbiPe1xwbJ"
      },
      "source": [
        "Filtrando a empresa ue mais lucrou, para analise"
      ]
    },
    {
      "cell_type": "code",
      "metadata": {
        "id": "zIHCnWJWwCn6"
      },
      "source": [
        "df_empresa_que_mais_lucrou = df.loc[df['marca']== 'Fabrikam']"
      ],
      "execution_count": 18,
      "outputs": []
    },
    {
      "cell_type": "code",
      "metadata": {
        "colab": {
          "base_uri": "https://localhost:8080/",
          "height": 1000
        },
        "id": "9BeiSVAFyGRu",
        "outputId": "8ff73f65-03f7-45b4-a4c6-f2195d0f8a45"
      },
      "source": [
        "df_empresa_que_mais_lucrou"
      ],
      "execution_count": 19,
      "outputs": [
        {
          "output_type": "execute_result",
          "data": {
            "text/html": [
              "<div>\n",
              "<style scoped>\n",
              "    .dataframe tbody tr th:only-of-type {\n",
              "        vertical-align: middle;\n",
              "    }\n",
              "\n",
              "    .dataframe tbody tr th {\n",
              "        vertical-align: top;\n",
              "    }\n",
              "\n",
              "    .dataframe thead th {\n",
              "        text-align: right;\n",
              "    }\n",
              "</style>\n",
              "<table border=\"1\" class=\"dataframe\">\n",
              "  <thead>\n",
              "    <tr style=\"text-align: right;\">\n",
              "      <th></th>\n",
              "      <th>data_venda</th>\n",
              "      <th>data_envio</th>\n",
              "      <th>id_loja</th>\n",
              "      <th>id_produto</th>\n",
              "      <th>id_cliente</th>\n",
              "      <th>num_venda</th>\n",
              "      <th>custo_unitario</th>\n",
              "      <th>preco_unitario</th>\n",
              "      <th>quantidade</th>\n",
              "      <th>valor_desconto</th>\n",
              "      <th>valor_venda</th>\n",
              "      <th>produto</th>\n",
              "      <th>fabricante</th>\n",
              "      <th>marca</th>\n",
              "      <th>classe</th>\n",
              "      <th>cor</th>\n",
              "      <th>custo_total</th>\n",
              "      <th>lucro</th>\n",
              "      <th>tempo_envio</th>\n",
              "    </tr>\n",
              "  </thead>\n",
              "  <tbody>\n",
              "    <tr>\n",
              "      <th>19</th>\n",
              "      <td>2008-05-04</td>\n",
              "      <td>2008-05-15</td>\n",
              "      <td>199</td>\n",
              "      <td>1178</td>\n",
              "      <td>18837</td>\n",
              "      <td>200805044CS605</td>\n",
              "      <td>330.66</td>\n",
              "      <td>998.0</td>\n",
              "      <td>6</td>\n",
              "      <td>0.00</td>\n",
              "      <td>5988.00</td>\n",
              "      <td>Fabrikam Trendsetter 1/3'' 8.5mm X200 White</td>\n",
              "      <td>Fabrikam, Inc.</td>\n",
              "      <td>Fabrikam</td>\n",
              "      <td>Regular</td>\n",
              "      <td>White</td>\n",
              "      <td>1983.96</td>\n",
              "      <td>4004.04</td>\n",
              "      <td>11</td>\n",
              "    </tr>\n",
              "    <tr>\n",
              "      <th>20</th>\n",
              "      <td>2008-05-06</td>\n",
              "      <td>2008-05-18</td>\n",
              "      <td>199</td>\n",
              "      <td>1178</td>\n",
              "      <td>18838</td>\n",
              "      <td>200805064CS606</td>\n",
              "      <td>330.66</td>\n",
              "      <td>998.0</td>\n",
              "      <td>6</td>\n",
              "      <td>0.00</td>\n",
              "      <td>5988.00</td>\n",
              "      <td>Fabrikam Trendsetter 1/3'' 8.5mm X200 White</td>\n",
              "      <td>Fabrikam, Inc.</td>\n",
              "      <td>Fabrikam</td>\n",
              "      <td>Regular</td>\n",
              "      <td>White</td>\n",
              "      <td>1983.96</td>\n",
              "      <td>4004.04</td>\n",
              "      <td>12</td>\n",
              "    </tr>\n",
              "    <tr>\n",
              "      <th>21</th>\n",
              "      <td>2008-06-26</td>\n",
              "      <td>2008-07-09</td>\n",
              "      <td>199</td>\n",
              "      <td>1178</td>\n",
              "      <td>18849</td>\n",
              "      <td>200806264CS625</td>\n",
              "      <td>330.66</td>\n",
              "      <td>998.0</td>\n",
              "      <td>6</td>\n",
              "      <td>0.00</td>\n",
              "      <td>5988.00</td>\n",
              "      <td>Fabrikam Trendsetter 1/3'' 8.5mm X200 White</td>\n",
              "      <td>Fabrikam, Inc.</td>\n",
              "      <td>Fabrikam</td>\n",
              "      <td>Regular</td>\n",
              "      <td>White</td>\n",
              "      <td>1983.96</td>\n",
              "      <td>4004.04</td>\n",
              "      <td>13</td>\n",
              "    </tr>\n",
              "    <tr>\n",
              "      <th>22</th>\n",
              "      <td>2008-06-28</td>\n",
              "      <td>2008-07-11</td>\n",
              "      <td>199</td>\n",
              "      <td>1178</td>\n",
              "      <td>18849</td>\n",
              "      <td>200806284CS625</td>\n",
              "      <td>330.66</td>\n",
              "      <td>998.0</td>\n",
              "      <td>6</td>\n",
              "      <td>0.00</td>\n",
              "      <td>5988.00</td>\n",
              "      <td>Fabrikam Trendsetter 1/3'' 8.5mm X200 White</td>\n",
              "      <td>Fabrikam, Inc.</td>\n",
              "      <td>Fabrikam</td>\n",
              "      <td>Regular</td>\n",
              "      <td>White</td>\n",
              "      <td>1983.96</td>\n",
              "      <td>4004.04</td>\n",
              "      <td>13</td>\n",
              "    </tr>\n",
              "    <tr>\n",
              "      <th>23</th>\n",
              "      <td>2008-06-28</td>\n",
              "      <td>2008-07-02</td>\n",
              "      <td>199</td>\n",
              "      <td>1178</td>\n",
              "      <td>18850</td>\n",
              "      <td>200806284CS627</td>\n",
              "      <td>330.66</td>\n",
              "      <td>998.0</td>\n",
              "      <td>6</td>\n",
              "      <td>0.00</td>\n",
              "      <td>5988.00</td>\n",
              "      <td>Fabrikam Trendsetter 1/3'' 8.5mm X200 White</td>\n",
              "      <td>Fabrikam, Inc.</td>\n",
              "      <td>Fabrikam</td>\n",
              "      <td>Regular</td>\n",
              "      <td>White</td>\n",
              "      <td>1983.96</td>\n",
              "      <td>4004.04</td>\n",
              "      <td>4</td>\n",
              "    </tr>\n",
              "    <tr>\n",
              "      <th>...</th>\n",
              "      <td>...</td>\n",
              "      <td>...</td>\n",
              "      <td>...</td>\n",
              "      <td>...</td>\n",
              "      <td>...</td>\n",
              "      <td>...</td>\n",
              "      <td>...</td>\n",
              "      <td>...</td>\n",
              "      <td>...</td>\n",
              "      <td>...</td>\n",
              "      <td>...</td>\n",
              "      <td>...</td>\n",
              "      <td>...</td>\n",
              "      <td>...</td>\n",
              "      <td>...</td>\n",
              "      <td>...</td>\n",
              "      <td>...</td>\n",
              "      <td>...</td>\n",
              "      <td>...</td>\n",
              "    </tr>\n",
              "    <tr>\n",
              "      <th>899</th>\n",
              "      <td>2008-03-22</td>\n",
              "      <td>2008-04-04</td>\n",
              "      <td>306</td>\n",
              "      <td>1226</td>\n",
              "      <td>19049</td>\n",
              "      <td>200803224CS555</td>\n",
              "      <td>330.99</td>\n",
              "      <td>999.0</td>\n",
              "      <td>6</td>\n",
              "      <td>419.58</td>\n",
              "      <td>5574.42</td>\n",
              "      <td>Fabrikam Trendsetter 1/3'' 8.5mm X200 Black</td>\n",
              "      <td>Fabrikam, Inc.</td>\n",
              "      <td>Fabrikam</td>\n",
              "      <td>Regular</td>\n",
              "      <td>Black</td>\n",
              "      <td>1985.94</td>\n",
              "      <td>3588.48</td>\n",
              "      <td>13</td>\n",
              "    </tr>\n",
              "    <tr>\n",
              "      <th>900</th>\n",
              "      <td>2008-10-04</td>\n",
              "      <td>2008-10-15</td>\n",
              "      <td>306</td>\n",
              "      <td>1155</td>\n",
              "      <td>19057</td>\n",
              "      <td>200810044CS636</td>\n",
              "      <td>324.69</td>\n",
              "      <td>980.0</td>\n",
              "      <td>6</td>\n",
              "      <td>1176.00</td>\n",
              "      <td>4704.00</td>\n",
              "      <td>Fabrikam Trendsetter 2/3'' 17mm X100 Black</td>\n",
              "      <td>Fabrikam, Inc.</td>\n",
              "      <td>Fabrikam</td>\n",
              "      <td>Regular</td>\n",
              "      <td>Black</td>\n",
              "      <td>1948.14</td>\n",
              "      <td>2755.86</td>\n",
              "      <td>11</td>\n",
              "    </tr>\n",
              "    <tr>\n",
              "      <th>901</th>\n",
              "      <td>2008-12-11</td>\n",
              "      <td>2008-12-15</td>\n",
              "      <td>306</td>\n",
              "      <td>1155</td>\n",
              "      <td>19060</td>\n",
              "      <td>200812114CS676</td>\n",
              "      <td>324.69</td>\n",
              "      <td>980.0</td>\n",
              "      <td>6</td>\n",
              "      <td>1176.00</td>\n",
              "      <td>4704.00</td>\n",
              "      <td>Fabrikam Trendsetter 2/3'' 17mm X100 Black</td>\n",
              "      <td>Fabrikam, Inc.</td>\n",
              "      <td>Fabrikam</td>\n",
              "      <td>Regular</td>\n",
              "      <td>Black</td>\n",
              "      <td>1948.14</td>\n",
              "      <td>2755.86</td>\n",
              "      <td>4</td>\n",
              "    </tr>\n",
              "    <tr>\n",
              "      <th>902</th>\n",
              "      <td>2008-12-17</td>\n",
              "      <td>2008-12-21</td>\n",
              "      <td>306</td>\n",
              "      <td>1226</td>\n",
              "      <td>19060</td>\n",
              "      <td>200812174CS676</td>\n",
              "      <td>330.99</td>\n",
              "      <td>999.0</td>\n",
              "      <td>6</td>\n",
              "      <td>1198.80</td>\n",
              "      <td>4795.20</td>\n",
              "      <td>Fabrikam Trendsetter 1/3'' 8.5mm X200 Black</td>\n",
              "      <td>Fabrikam, Inc.</td>\n",
              "      <td>Fabrikam</td>\n",
              "      <td>Regular</td>\n",
              "      <td>Black</td>\n",
              "      <td>1985.94</td>\n",
              "      <td>2809.26</td>\n",
              "      <td>4</td>\n",
              "    </tr>\n",
              "    <tr>\n",
              "      <th>903</th>\n",
              "      <td>2008-12-21</td>\n",
              "      <td>2008-12-25</td>\n",
              "      <td>306</td>\n",
              "      <td>1155</td>\n",
              "      <td>19060</td>\n",
              "      <td>200812214CS676</td>\n",
              "      <td>324.69</td>\n",
              "      <td>980.0</td>\n",
              "      <td>6</td>\n",
              "      <td>1176.00</td>\n",
              "      <td>4704.00</td>\n",
              "      <td>Fabrikam Trendsetter 2/3'' 17mm X100 Black</td>\n",
              "      <td>Fabrikam, Inc.</td>\n",
              "      <td>Fabrikam</td>\n",
              "      <td>Regular</td>\n",
              "      <td>Black</td>\n",
              "      <td>1948.14</td>\n",
              "      <td>2755.86</td>\n",
              "      <td>4</td>\n",
              "    </tr>\n",
              "  </tbody>\n",
              "</table>\n",
              "<p>494 rows × 19 columns</p>\n",
              "</div>"
            ],
            "text/plain": [
              "    data_venda data_envio  id_loja  ...  custo_total    lucro tempo_envio\n",
              "19  2008-05-04 2008-05-15      199  ...      1983.96  4004.04          11\n",
              "20  2008-05-06 2008-05-18      199  ...      1983.96  4004.04          12\n",
              "21  2008-06-26 2008-07-09      199  ...      1983.96  4004.04          13\n",
              "22  2008-06-28 2008-07-11      199  ...      1983.96  4004.04          13\n",
              "23  2008-06-28 2008-07-02      199  ...      1983.96  4004.04           4\n",
              "..         ...        ...      ...  ...          ...      ...         ...\n",
              "899 2008-03-22 2008-04-04      306  ...      1985.94  3588.48          13\n",
              "900 2008-10-04 2008-10-15      306  ...      1948.14  2755.86          11\n",
              "901 2008-12-11 2008-12-15      306  ...      1948.14  2755.86           4\n",
              "902 2008-12-17 2008-12-21      306  ...      1985.94  2809.26           4\n",
              "903 2008-12-21 2008-12-25      306  ...      1948.14  2755.86           4\n",
              "\n",
              "[494 rows x 19 columns]"
            ]
          },
          "metadata": {
            "tags": []
          },
          "execution_count": 19
        }
      ]
    },
    {
      "cell_type": "markdown",
      "metadata": {
        "id": "dyCAwerU0AmK"
      },
      "source": [
        "Descobrindo os produtos que fizeram essa empresa lucrar tanto  \n",
        "importante para adicionarmos esses produtos a nossa loja e aumentar o faturamento"
      ]
    },
    {
      "cell_type": "code",
      "metadata": {
        "id": "5Sm6uRCoyiBl"
      },
      "source": [
        "produtos_de_mais_valor = df_empresa_que_mais_lucrou[['produto', 'custo_unitario','preco_unitario']].reset_index()"
      ],
      "execution_count": 20,
      "outputs": []
    },
    {
      "cell_type": "code",
      "metadata": {
        "colab": {
          "base_uri": "https://localhost:8080/",
          "height": 419
        },
        "id": "smSejI0A3Z-g",
        "outputId": "d8f40cba-da0f-4b3f-d579-3bd906a33a88"
      },
      "source": [
        "produtos_de_mais_valor"
      ],
      "execution_count": 21,
      "outputs": [
        {
          "output_type": "execute_result",
          "data": {
            "text/html": [
              "<div>\n",
              "<style scoped>\n",
              "    .dataframe tbody tr th:only-of-type {\n",
              "        vertical-align: middle;\n",
              "    }\n",
              "\n",
              "    .dataframe tbody tr th {\n",
              "        vertical-align: top;\n",
              "    }\n",
              "\n",
              "    .dataframe thead th {\n",
              "        text-align: right;\n",
              "    }\n",
              "</style>\n",
              "<table border=\"1\" class=\"dataframe\">\n",
              "  <thead>\n",
              "    <tr style=\"text-align: right;\">\n",
              "      <th></th>\n",
              "      <th>index</th>\n",
              "      <th>produto</th>\n",
              "      <th>custo_unitario</th>\n",
              "      <th>preco_unitario</th>\n",
              "    </tr>\n",
              "  </thead>\n",
              "  <tbody>\n",
              "    <tr>\n",
              "      <th>0</th>\n",
              "      <td>19</td>\n",
              "      <td>Fabrikam Trendsetter 1/3'' 8.5mm X200 White</td>\n",
              "      <td>330.66</td>\n",
              "      <td>998.0</td>\n",
              "    </tr>\n",
              "    <tr>\n",
              "      <th>1</th>\n",
              "      <td>20</td>\n",
              "      <td>Fabrikam Trendsetter 1/3'' 8.5mm X200 White</td>\n",
              "      <td>330.66</td>\n",
              "      <td>998.0</td>\n",
              "    </tr>\n",
              "    <tr>\n",
              "      <th>2</th>\n",
              "      <td>21</td>\n",
              "      <td>Fabrikam Trendsetter 1/3'' 8.5mm X200 White</td>\n",
              "      <td>330.66</td>\n",
              "      <td>998.0</td>\n",
              "    </tr>\n",
              "    <tr>\n",
              "      <th>3</th>\n",
              "      <td>22</td>\n",
              "      <td>Fabrikam Trendsetter 1/3'' 8.5mm X200 White</td>\n",
              "      <td>330.66</td>\n",
              "      <td>998.0</td>\n",
              "    </tr>\n",
              "    <tr>\n",
              "      <th>4</th>\n",
              "      <td>23</td>\n",
              "      <td>Fabrikam Trendsetter 1/3'' 8.5mm X200 White</td>\n",
              "      <td>330.66</td>\n",
              "      <td>998.0</td>\n",
              "    </tr>\n",
              "    <tr>\n",
              "      <th>...</th>\n",
              "      <td>...</td>\n",
              "      <td>...</td>\n",
              "      <td>...</td>\n",
              "      <td>...</td>\n",
              "    </tr>\n",
              "    <tr>\n",
              "      <th>489</th>\n",
              "      <td>899</td>\n",
              "      <td>Fabrikam Trendsetter 1/3'' 8.5mm X200 Black</td>\n",
              "      <td>330.99</td>\n",
              "      <td>999.0</td>\n",
              "    </tr>\n",
              "    <tr>\n",
              "      <th>490</th>\n",
              "      <td>900</td>\n",
              "      <td>Fabrikam Trendsetter 2/3'' 17mm X100 Black</td>\n",
              "      <td>324.69</td>\n",
              "      <td>980.0</td>\n",
              "    </tr>\n",
              "    <tr>\n",
              "      <th>491</th>\n",
              "      <td>901</td>\n",
              "      <td>Fabrikam Trendsetter 2/3'' 17mm X100 Black</td>\n",
              "      <td>324.69</td>\n",
              "      <td>980.0</td>\n",
              "    </tr>\n",
              "    <tr>\n",
              "      <th>492</th>\n",
              "      <td>902</td>\n",
              "      <td>Fabrikam Trendsetter 1/3'' 8.5mm X200 Black</td>\n",
              "      <td>330.99</td>\n",
              "      <td>999.0</td>\n",
              "    </tr>\n",
              "    <tr>\n",
              "      <th>493</th>\n",
              "      <td>903</td>\n",
              "      <td>Fabrikam Trendsetter 2/3'' 17mm X100 Black</td>\n",
              "      <td>324.69</td>\n",
              "      <td>980.0</td>\n",
              "    </tr>\n",
              "  </tbody>\n",
              "</table>\n",
              "<p>494 rows × 4 columns</p>\n",
              "</div>"
            ],
            "text/plain": [
              "     index  ... preco_unitario\n",
              "0       19  ...          998.0\n",
              "1       20  ...          998.0\n",
              "2       21  ...          998.0\n",
              "3       22  ...          998.0\n",
              "4       23  ...          998.0\n",
              "..     ...  ...            ...\n",
              "489    899  ...          999.0\n",
              "490    900  ...          980.0\n",
              "491    901  ...          980.0\n",
              "492    902  ...          999.0\n",
              "493    903  ...          980.0\n",
              "\n",
              "[494 rows x 4 columns]"
            ]
          },
          "metadata": {
            "tags": []
          },
          "execution_count": 21
        }
      ]
    },
    {
      "cell_type": "markdown",
      "metadata": {
        "id": "JDbEBULU5xTd"
      },
      "source": [
        "Obtendo a media de tempo de envio das marcas"
      ]
    },
    {
      "cell_type": "code",
      "metadata": {
        "colab": {
          "base_uri": "https://localhost:8080/"
        },
        "id": "c2Xd95Xi5J-C",
        "outputId": "89ea839b-1829-497a-aa2d-5b327107da63"
      },
      "source": [
        "df.groupby('marca')['tempo_envio'].mean()"
      ],
      "execution_count": 22,
      "outputs": [
        {
          "output_type": "execute_result",
          "data": {
            "text/plain": [
              "marca\n",
              "Adventure Works    8.663866\n",
              "Contoso            8.470930\n",
              "Fabrikam           8.510121\n",
              "Name: tempo_envio, dtype: float64"
            ]
          },
          "metadata": {
            "tags": []
          },
          "execution_count": 22
        }
      ]
    },
    {
      "cell_type": "markdown",
      "metadata": {
        "id": "ALeJnver8PW3"
      },
      "source": [
        "Analizando quantos produtos cada loja de uma marca vendeu"
      ]
    },
    {
      "cell_type": "code",
      "metadata": {
        "id": "Ro3LJbr259m6"
      },
      "source": [
        "qtd_prod_vendidos_por_loja = df.groupby([df.marca, 'id_loja'])['quantidade'].sum().reset_index()"
      ],
      "execution_count": 23,
      "outputs": []
    },
    {
      "cell_type": "code",
      "metadata": {
        "colab": {
          "base_uri": "https://localhost:8080/",
          "height": 328
        },
        "id": "5mEGEm-C9nca",
        "outputId": "f31880bd-3a10-4275-d57c-36f1a814f4c9"
      },
      "source": [
        "qtd_prod_vendidos_por_loja"
      ],
      "execution_count": 24,
      "outputs": [
        {
          "output_type": "execute_result",
          "data": {
            "text/html": [
              "<div>\n",
              "<style scoped>\n",
              "    .dataframe tbody tr th:only-of-type {\n",
              "        vertical-align: middle;\n",
              "    }\n",
              "\n",
              "    .dataframe tbody tr th {\n",
              "        vertical-align: top;\n",
              "    }\n",
              "\n",
              "    .dataframe thead th {\n",
              "        text-align: right;\n",
              "    }\n",
              "</style>\n",
              "<table border=\"1\" class=\"dataframe\">\n",
              "  <thead>\n",
              "    <tr style=\"text-align: right;\">\n",
              "      <th></th>\n",
              "      <th>marca</th>\n",
              "      <th>id_loja</th>\n",
              "      <th>quantidade</th>\n",
              "    </tr>\n",
              "  </thead>\n",
              "  <tbody>\n",
              "    <tr>\n",
              "      <th>0</th>\n",
              "      <td>Adventure Works</td>\n",
              "      <td>199</td>\n",
              "      <td>637</td>\n",
              "    </tr>\n",
              "    <tr>\n",
              "      <th>1</th>\n",
              "      <td>Adventure Works</td>\n",
              "      <td>306</td>\n",
              "      <td>673</td>\n",
              "    </tr>\n",
              "    <tr>\n",
              "      <th>2</th>\n",
              "      <td>Adventure Works</td>\n",
              "      <td>307</td>\n",
              "      <td>826</td>\n",
              "    </tr>\n",
              "    <tr>\n",
              "      <th>3</th>\n",
              "      <td>Contoso</td>\n",
              "      <td>199</td>\n",
              "      <td>17731</td>\n",
              "    </tr>\n",
              "    <tr>\n",
              "      <th>4</th>\n",
              "      <td>Contoso</td>\n",
              "      <td>306</td>\n",
              "      <td>10261</td>\n",
              "    </tr>\n",
              "    <tr>\n",
              "      <th>5</th>\n",
              "      <td>Contoso</td>\n",
              "      <td>307</td>\n",
              "      <td>22248</td>\n",
              "    </tr>\n",
              "    <tr>\n",
              "      <th>6</th>\n",
              "      <td>Fabrikam</td>\n",
              "      <td>199</td>\n",
              "      <td>1751</td>\n",
              "    </tr>\n",
              "    <tr>\n",
              "      <th>7</th>\n",
              "      <td>Fabrikam</td>\n",
              "      <td>306</td>\n",
              "      <td>1281</td>\n",
              "    </tr>\n",
              "    <tr>\n",
              "      <th>8</th>\n",
              "      <td>Fabrikam</td>\n",
              "      <td>307</td>\n",
              "      <td>1499</td>\n",
              "    </tr>\n",
              "  </tbody>\n",
              "</table>\n",
              "</div>"
            ],
            "text/plain": [
              "             marca  id_loja  quantidade\n",
              "0  Adventure Works      199         637\n",
              "1  Adventure Works      306         673\n",
              "2  Adventure Works      307         826\n",
              "3          Contoso      199       17731\n",
              "4          Contoso      306       10261\n",
              "5          Contoso      307       22248\n",
              "6         Fabrikam      199        1751\n",
              "7         Fabrikam      306        1281\n",
              "8         Fabrikam      307        1499"
            ]
          },
          "metadata": {
            "tags": []
          },
          "execution_count": 24
        }
      ]
    },
    {
      "cell_type": "code",
      "metadata": {
        "id": "FUiGFJ61NCaZ"
      },
      "source": [
        "\n"
      ],
      "execution_count": 24,
      "outputs": []
    },
    {
      "cell_type": "markdown",
      "metadata": {
        "id": "te8wlszK8s5V"
      },
      "source": [
        "# Representações Gráficas"
      ]
    },
    {
      "cell_type": "code",
      "metadata": {
        "id": "AaKMFp_h8ysh"
      },
      "source": [
        "import matplotlib.pyplot as plt\n",
        "plt.style.use('seaborn')"
      ],
      "execution_count": 25,
      "outputs": []
    },
    {
      "cell_type": "markdown",
      "metadata": {
        "id": "yt_kFpaa-q59"
      },
      "source": [
        "*Represtanção dos produtos e quantidade de produtos vendidos por cada uma*"
      ]
    },
    {
      "cell_type": "code",
      "metadata": {
        "colab": {
          "base_uri": "https://localhost:8080/",
          "height": 361
        },
        "id": "W7T-mIvc9ZJI",
        "outputId": "d17b990b-0431-47af-f693-654e2c20cd65"
      },
      "source": [
        "df.groupby(df.produto)['quantidade'].sum().sort_index().plot.barh()\n",
        "plt.xlabel('total')\n",
        "plt.ylabel('produto');"
      ],
      "execution_count": 26,
      "outputs": [
        {
          "output_type": "display_data",
          "data": {
            "image/png": "[encoded data removed]",
            "text/plain": [
              "<Figure size 576x396 with 1 Axes>"
            ]
          },
          "metadata": {
            "tags": []
          }
        }
      ]
    },
    {
      "cell_type": "markdown",
      "metadata": {
        "id": "0fJGE3YFBDTc"
      },
      "source": [
        "*Representação da quatidade de produtos vendidos em cada mês*"
      ]
    },
    {
      "cell_type": "code",
      "metadata": {
        "colab": {
          "base_uri": "https://localhost:8080/",
          "height": 376
        },
        "id": "zr8Uo5bm_IKc",
        "outputId": "7083a42c-3533-4f9c-e935-171a3f944c8f"
      },
      "source": [
        "df.groupby(df.data_venda.dt.month)['quantidade'].sum().plot.barh(title='mês x quantidade de produtos')\n",
        "plt.xlabel('quantidade de produtos vendidos')\n",
        "plt.ylabel('mês');"
      ],
      "execution_count": 27,
      "outputs": [
        {
          "output_type": "display_data",
          "data": {
            "image/png": "[encoded data removed]",
            "text/plain": [
              "<Figure size 576x396 with 1 Axes>"
            ]
          },
          "metadata": {
            "tags": []
          }
        }
      ]
    },
    {
      "cell_type": "markdown",
      "metadata": {
        "id": "x5JFh3jLBm1-"
      },
      "source": [
        "*Representação do lucro a cada mês, gráfico em linha*"
      ]
    },
    {
      "cell_type": "code",
      "metadata": {
        "colab": {
          "base_uri": "https://localhost:8080/",
          "height": 376
        },
        "id": "h98SAH6sA_54",
        "outputId": "b5658700-55e1-496e-aaf8-ded02271bc4d"
      },
      "source": [
        "df.groupby(df.data_venda.dt.month)['lucro'].sum().plot(title='mês x lucro')\n",
        "plt.xlabel('mês')\n",
        "plt.ylabel('lucro');"
      ],
      "execution_count": 28,
      "outputs": [
        {
          "output_type": "display_data",
          "data": {
            "image/png": "[encoded data removed]",
            "text/plain": [
              "<Figure size 576x396 with 1 Axes>"
            ]
          },
          "metadata": {
            "tags": []
          }
        }
      ]
    },
    {
      "cell_type": "markdown",
      "metadata": {
        "id": "cFmryEqhENeP"
      },
      "source": [
        "Representação da marca que mais lucrou"
      ]
    },
    {
      "cell_type": "code",
      "metadata": {
        "colab": {
          "base_uri": "https://localhost:8080/",
          "height": 376
        },
        "id": "8uN82ciBDozY",
        "outputId": "83eef03e-21af-44ef-fa40-a2055559f260"
      },
      "source": [
        "df.groupby('marca')['lucro'].sum().plot.bar(title='lucro x marca');\n",
        "plt.xlabel('marcas')\n",
        "plt.ylabel('lucro')\n",
        "plt.xticks(rotation='horizontal');"
      ],
      "execution_count": 29,
      "outputs": [
        {
          "output_type": "display_data",
          "data": {
            "image/png": "[encoded data removed]",
            "text/plain": [
              "<Figure size 576x396 with 1 Axes>"
            ]
          },
          "metadata": {
            "tags": []
          }
        }
      ]
    },
    {
      "cell_type": "code",
      "metadata": {
        "colab": {
          "base_uri": "https://localhost:8080/"
        },
        "id": "1aurSGGLFM3c",
        "outputId": "c22f243f-cb5d-426e-e037-c668883904bf"
      },
      "source": [
        "df.tempo_envio.describe()"
      ],
      "execution_count": 30,
      "outputs": [
        {
          "output_type": "execute_result",
          "data": {
            "text/plain": [
              "count    904.000000\n",
              "mean       8.543142\n",
              "std        3.056920\n",
              "min        4.000000\n",
              "25%        6.000000\n",
              "50%        9.000000\n",
              "75%       11.000000\n",
              "max       20.000000\n",
              "Name: tempo_envio, dtype: float64"
            ]
          },
          "metadata": {
            "tags": []
          },
          "execution_count": 30
        }
      ]
    },
    {
      "cell_type": "code",
      "metadata": {
        "colab": {
          "base_uri": "https://localhost:8080/",
          "height": 347
        },
        "id": "P6JTPe_sFXCK",
        "outputId": "113f8336-4f89-4fdc-b816-865214d8ace6"
      },
      "source": [
        "plt.boxplot(df.tempo_envio);"
      ],
      "execution_count": 31,
      "outputs": [
        {
          "output_type": "display_data",
          "data": {
            "image/png": "[encoded data removed]",
            "text/plain": [
              "<Figure size 576x396 with 1 Axes>"
            ]
          },
          "metadata": {
            "tags": []
          }
        }
      ]
    },
    {
      "cell_type": "markdown",
      "metadata": {
        "id": "ATGK-8LSGStn"
      },
      "source": [
        "# Manipulando os datasets das capitais"
      ]
    },
    {
      "cell_type": "code",
      "metadata": {
        "id": "P9R5njPFGUAm"
      },
      "source": [
        "df_fortaleza = pd.read_excel('/content/drive/MyDrive/Datasets/Fortaleza.xlsx')\n",
        "df_aracaju = pd.read_excel('/content/drive/MyDrive/Datasets/Aracaju.xlsx')\n",
        "df_recife = pd.read_excel('/content/drive/MyDrive/Datasets/Recife.xlsx')\n",
        "df_salvador = pd.read_excel('/content/drive/MyDrive/Datasets/Salvador.xlsx')\n",
        "df_natal = pd.read_excel('/content/drive/MyDrive/Datasets/Natal.xlsx')"
      ],
      "execution_count": 239,
      "outputs": []
    },
    {
      "cell_type": "markdown",
      "metadata": {
        "id": "lJsCxrbqMDwU"
      },
      "source": [
        "*Já que os datasets são semelhantes, faço a concateção destes em un único dataframe*"
      ]
    },
    {
      "cell_type": "code",
      "metadata": {
        "id": "lWgC0cgHGmqN"
      },
      "source": [
        "df_all_stories = pd.concat([df_fortaleza, df_aracaju, df_recife, df_salvador, df_natal])"
      ],
      "execution_count": 240,
      "outputs": []
    },
    {
      "cell_type": "markdown",
      "metadata": {
        "id": "zFu14pzROQQL"
      },
      "source": [
        "*Renomeando as colunas*"
      ]
    },
    {
      "cell_type": "code",
      "metadata": {
        "id": "tS_VoeOgNrDw"
      },
      "source": [
        "df_all_stories.rename(columns={'Cidade':'cidade', 'Data':'data', 'Vendas':'vendas', 'LojaID':'id_loja','Qtde':'qtde'}, inplace=True)"
      ],
      "execution_count": 288,
      "outputs": []
    },
    {
      "cell_type": "code",
      "metadata": {
        "colab": {
          "base_uri": "https://localhost:8080/",
          "height": 419
        },
        "id": "yCJdPYTWXC4S",
        "outputId": "8e6ee262-46a5-40f2-88d3-3b6e81f13f6c"
      },
      "source": [
        "df_all_stories"
      ],
      "execution_count": 289,
      "outputs": [
        {
          "output_type": "execute_result",
          "data": {
            "text/html": [
              "<div>\n",
              "<style scoped>\n",
              "    .dataframe tbody tr th:only-of-type {\n",
              "        vertical-align: middle;\n",
              "    }\n",
              "\n",
              "    .dataframe tbody tr th {\n",
              "        vertical-align: top;\n",
              "    }\n",
              "\n",
              "    .dataframe thead th {\n",
              "        text-align: right;\n",
              "    }\n",
              "</style>\n",
              "<table border=\"1\" class=\"dataframe\">\n",
              "  <thead>\n",
              "    <tr style=\"text-align: right;\">\n",
              "      <th></th>\n",
              "      <th>cidade</th>\n",
              "      <th>data</th>\n",
              "      <th>vendas</th>\n",
              "      <th>id_loja</th>\n",
              "      <th>qtde</th>\n",
              "    </tr>\n",
              "  </thead>\n",
              "  <tbody>\n",
              "    <tr>\n",
              "      <th>0</th>\n",
              "      <td>Fortaleza</td>\n",
              "      <td>2019-01-01</td>\n",
              "      <td>45.27</td>\n",
              "      <td>1002</td>\n",
              "      <td>2</td>\n",
              "    </tr>\n",
              "    <tr>\n",
              "      <th>1</th>\n",
              "      <td>Fortaleza</td>\n",
              "      <td>2019-01-01</td>\n",
              "      <td>115.61</td>\n",
              "      <td>1002</td>\n",
              "      <td>3</td>\n",
              "    </tr>\n",
              "    <tr>\n",
              "      <th>2</th>\n",
              "      <td>Fortaleza</td>\n",
              "      <td>2019-02-10</td>\n",
              "      <td>35.33</td>\n",
              "      <td>1004</td>\n",
              "      <td>3</td>\n",
              "    </tr>\n",
              "    <tr>\n",
              "      <th>3</th>\n",
              "      <td>Fortaleza</td>\n",
              "      <td>2019-02-10</td>\n",
              "      <td>20.95</td>\n",
              "      <td>1004</td>\n",
              "      <td>6</td>\n",
              "    </tr>\n",
              "    <tr>\n",
              "      <th>4</th>\n",
              "      <td>Fortaleza</td>\n",
              "      <td>2019-01-01</td>\n",
              "      <td>14.25</td>\n",
              "      <td>1004</td>\n",
              "      <td>6</td>\n",
              "    </tr>\n",
              "    <tr>\n",
              "      <th>...</th>\n",
              "      <td>...</td>\n",
              "      <td>...</td>\n",
              "      <td>...</td>\n",
              "      <td>...</td>\n",
              "      <td>...</td>\n",
              "    </tr>\n",
              "    <tr>\n",
              "      <th>235</th>\n",
              "      <td>Natal</td>\n",
              "      <td>2019-01-03</td>\n",
              "      <td>41.84</td>\n",
              "      <td>1034</td>\n",
              "      <td>1</td>\n",
              "    </tr>\n",
              "    <tr>\n",
              "      <th>236</th>\n",
              "      <td>Natal</td>\n",
              "      <td>2019-01-03</td>\n",
              "      <td>126.29</td>\n",
              "      <td>1035</td>\n",
              "      <td>3</td>\n",
              "    </tr>\n",
              "    <tr>\n",
              "      <th>237</th>\n",
              "      <td>Natal</td>\n",
              "      <td>2019-01-03</td>\n",
              "      <td>38.06</td>\n",
              "      <td>1036</td>\n",
              "      <td>3</td>\n",
              "    </tr>\n",
              "    <tr>\n",
              "      <th>238</th>\n",
              "      <td>Natal</td>\n",
              "      <td>2019-01-03</td>\n",
              "      <td>139.64</td>\n",
              "      <td>1035</td>\n",
              "      <td>1</td>\n",
              "    </tr>\n",
              "    <tr>\n",
              "      <th>239</th>\n",
              "      <td>Natal</td>\n",
              "      <td>2019-01-03</td>\n",
              "      <td>161.41</td>\n",
              "      <td>1037</td>\n",
              "      <td>3</td>\n",
              "    </tr>\n",
              "  </tbody>\n",
              "</table>\n",
              "<p>894 rows × 5 columns</p>\n",
              "</div>"
            ],
            "text/plain": [
              "        cidade       data  vendas  id_loja  qtde\n",
              "0    Fortaleza 2019-01-01   45.27     1002     2\n",
              "1    Fortaleza 2019-01-01  115.61     1002     3\n",
              "2    Fortaleza 2019-02-10   35.33     1004     3\n",
              "3    Fortaleza 2019-02-10   20.95     1004     6\n",
              "4    Fortaleza 2019-01-01   14.25     1004     6\n",
              "..         ...        ...     ...      ...   ...\n",
              "235      Natal 2019-01-03   41.84     1034     1\n",
              "236      Natal 2019-01-03  126.29     1035     3\n",
              "237      Natal 2019-01-03   38.06     1036     3\n",
              "238      Natal 2019-01-03  139.64     1035     1\n",
              "239      Natal 2019-01-03  161.41     1037     3\n",
              "\n",
              "[894 rows x 5 columns]"
            ]
          },
          "metadata": {
            "tags": []
          },
          "execution_count": 289
        }
      ]
    },
    {
      "cell_type": "markdown",
      "metadata": {
        "id": "ERhTjANlcpJr"
      },
      "source": [
        "*Conferindo a quantidade de linhas e colunas*"
      ]
    },
    {
      "cell_type": "code",
      "metadata": {
        "colab": {
          "base_uri": "https://localhost:8080/"
        },
        "id": "6qct2B-3cmO_",
        "outputId": "4689951b-8f58-4058-d8cd-d7d9e048413f"
      },
      "source": [
        "df_all_stories.shape"
      ],
      "execution_count": 243,
      "outputs": [
        {
          "output_type": "execute_result",
          "data": {
            "text/plain": [
              "(894, 5)"
            ]
          },
          "metadata": {
            "tags": []
          },
          "execution_count": 243
        }
      ]
    },
    {
      "cell_type": "markdown",
      "metadata": {
        "id": "kDWhDHqsOufz"
      },
      "source": [
        "Obtendo as capitais e os id_lojas (código de cada loja)"
      ]
    },
    {
      "cell_type": "code",
      "metadata": {
        "colab": {
          "base_uri": "https://localhost:8080/"
        },
        "id": "6gq2w3XMM5St",
        "outputId": "7088f4c8-93db-45e2-ab01-ef8e9631bad1"
      },
      "source": [
        "df_all_stories.groupby('cidade')['id_loja'].unique()"
      ],
      "execution_count": 244,
      "outputs": [
        {
          "output_type": "execute_result",
          "data": {
            "text/plain": [
              "cidade\n",
              "Aracaju                          [1520, 1522, 1521, 1523]\n",
              "Fortaleza    [1002, 1004, 1003, 1005, 981, 982, 983, 980]\n",
              "Natal             [853, 852, 854, 1036, 1035, 1037, 1034]\n",
              "Recife                               [981, 983, 980, 982]\n",
              "Salvador                         [1037, 1034, 1035, 1036]\n",
              "Name: id_loja, dtype: object"
            ]
          },
          "metadata": {
            "tags": []
          },
          "execution_count": 244
        }
      ]
    },
    {
      "cell_type": "markdown",
      "metadata": {
        "id": "iH5Obsp5Z_zS"
      },
      "source": [
        "*Filtrando a cidade através do id_loja*"
      ]
    },
    {
      "cell_type": "code",
      "metadata": {
        "colab": {
          "base_uri": "https://localhost:8080/",
          "height": 917
        },
        "id": "6cIaBqP_Xozp",
        "outputId": "77d66d78-f393-4eb1-bb5f-3dabb534aa9e"
      },
      "source": [
        "filtro_id_loja = df_all_stories['id_loja'] == 1004\n",
        "df_all_stories.loc[filtro_id_loja]"
      ],
      "execution_count": 290,
      "outputs": [
        {
          "output_type": "execute_result",
          "data": {
            "text/html": [
              "<div>\n",
              "<style scoped>\n",
              "    .dataframe tbody tr th:only-of-type {\n",
              "        vertical-align: middle;\n",
              "    }\n",
              "\n",
              "    .dataframe tbody tr th {\n",
              "        vertical-align: top;\n",
              "    }\n",
              "\n",
              "    .dataframe thead th {\n",
              "        text-align: right;\n",
              "    }\n",
              "</style>\n",
              "<table border=\"1\" class=\"dataframe\">\n",
              "  <thead>\n",
              "    <tr style=\"text-align: right;\">\n",
              "      <th></th>\n",
              "      <th>cidade</th>\n",
              "      <th>data</th>\n",
              "      <th>vendas</th>\n",
              "      <th>id_loja</th>\n",
              "      <th>qtde</th>\n",
              "    </tr>\n",
              "  </thead>\n",
              "  <tbody>\n",
              "    <tr>\n",
              "      <th>2</th>\n",
              "      <td>Fortaleza</td>\n",
              "      <td>2019-02-10</td>\n",
              "      <td>35.33</td>\n",
              "      <td>1004</td>\n",
              "      <td>3</td>\n",
              "    </tr>\n",
              "    <tr>\n",
              "      <th>3</th>\n",
              "      <td>Fortaleza</td>\n",
              "      <td>2019-02-10</td>\n",
              "      <td>20.95</td>\n",
              "      <td>1004</td>\n",
              "      <td>6</td>\n",
              "    </tr>\n",
              "    <tr>\n",
              "      <th>4</th>\n",
              "      <td>Fortaleza</td>\n",
              "      <td>2019-01-01</td>\n",
              "      <td>14.25</td>\n",
              "      <td>1004</td>\n",
              "      <td>6</td>\n",
              "    </tr>\n",
              "    <tr>\n",
              "      <th>12</th>\n",
              "      <td>Fortaleza</td>\n",
              "      <td>2019-01-01</td>\n",
              "      <td>80.73</td>\n",
              "      <td>1004</td>\n",
              "      <td>2</td>\n",
              "    </tr>\n",
              "    <tr>\n",
              "      <th>17</th>\n",
              "      <td>Fortaleza</td>\n",
              "      <td>2019-01-01</td>\n",
              "      <td>166.80</td>\n",
              "      <td>1004</td>\n",
              "      <td>1</td>\n",
              "    </tr>\n",
              "    <tr>\n",
              "      <th>21</th>\n",
              "      <td>Fortaleza</td>\n",
              "      <td>2019-01-01</td>\n",
              "      <td>40.63</td>\n",
              "      <td>1004</td>\n",
              "      <td>3</td>\n",
              "    </tr>\n",
              "    <tr>\n",
              "      <th>23</th>\n",
              "      <td>Fortaleza</td>\n",
              "      <td>2019-01-01</td>\n",
              "      <td>85.90</td>\n",
              "      <td>1004</td>\n",
              "      <td>5</td>\n",
              "    </tr>\n",
              "    <tr>\n",
              "      <th>25</th>\n",
              "      <td>Fortaleza</td>\n",
              "      <td>2019-01-01</td>\n",
              "      <td>80.31</td>\n",
              "      <td>1004</td>\n",
              "      <td>4</td>\n",
              "    </tr>\n",
              "    <tr>\n",
              "      <th>28</th>\n",
              "      <td>Fortaleza</td>\n",
              "      <td>2019-01-01</td>\n",
              "      <td>34.88</td>\n",
              "      <td>1004</td>\n",
              "      <td>3</td>\n",
              "    </tr>\n",
              "    <tr>\n",
              "      <th>32</th>\n",
              "      <td>Fortaleza</td>\n",
              "      <td>2019-01-01</td>\n",
              "      <td>43.33</td>\n",
              "      <td>1004</td>\n",
              "      <td>4</td>\n",
              "    </tr>\n",
              "    <tr>\n",
              "      <th>36</th>\n",
              "      <td>Fortaleza</td>\n",
              "      <td>2019-01-01</td>\n",
              "      <td>36.31</td>\n",
              "      <td>1004</td>\n",
              "      <td>2</td>\n",
              "    </tr>\n",
              "    <tr>\n",
              "      <th>38</th>\n",
              "      <td>Fortaleza</td>\n",
              "      <td>2019-01-01</td>\n",
              "      <td>35.09</td>\n",
              "      <td>1004</td>\n",
              "      <td>4</td>\n",
              "    </tr>\n",
              "    <tr>\n",
              "      <th>42</th>\n",
              "      <td>Fortaleza</td>\n",
              "      <td>2019-01-01</td>\n",
              "      <td>38.71</td>\n",
              "      <td>1004</td>\n",
              "      <td>5</td>\n",
              "    </tr>\n",
              "    <tr>\n",
              "      <th>43</th>\n",
              "      <td>Fortaleza</td>\n",
              "      <td>2019-01-01</td>\n",
              "      <td>191.52</td>\n",
              "      <td>1004</td>\n",
              "      <td>1</td>\n",
              "    </tr>\n",
              "    <tr>\n",
              "      <th>45</th>\n",
              "      <td>Fortaleza</td>\n",
              "      <td>2019-01-01</td>\n",
              "      <td>39.63</td>\n",
              "      <td>1004</td>\n",
              "      <td>3</td>\n",
              "    </tr>\n",
              "    <tr>\n",
              "      <th>47</th>\n",
              "      <td>Fortaleza</td>\n",
              "      <td>2019-01-01</td>\n",
              "      <td>13.45</td>\n",
              "      <td>1004</td>\n",
              "      <td>5</td>\n",
              "    </tr>\n",
              "    <tr>\n",
              "      <th>58</th>\n",
              "      <td>Fortaleza</td>\n",
              "      <td>2019-01-01</td>\n",
              "      <td>38.90</td>\n",
              "      <td>1004</td>\n",
              "      <td>4</td>\n",
              "    </tr>\n",
              "    <tr>\n",
              "      <th>63</th>\n",
              "      <td>Fortaleza</td>\n",
              "      <td>2019-01-01</td>\n",
              "      <td>118.17</td>\n",
              "      <td>1004</td>\n",
              "      <td>1</td>\n",
              "    </tr>\n",
              "    <tr>\n",
              "      <th>71</th>\n",
              "      <td>Fortaleza</td>\n",
              "      <td>2019-01-01</td>\n",
              "      <td>41.89</td>\n",
              "      <td>1004</td>\n",
              "      <td>4</td>\n",
              "    </tr>\n",
              "    <tr>\n",
              "      <th>76</th>\n",
              "      <td>Fortaleza</td>\n",
              "      <td>2019-01-01</td>\n",
              "      <td>38.61</td>\n",
              "      <td>1004</td>\n",
              "      <td>4</td>\n",
              "    </tr>\n",
              "    <tr>\n",
              "      <th>82</th>\n",
              "      <td>Fortaleza</td>\n",
              "      <td>2019-01-01</td>\n",
              "      <td>14.03</td>\n",
              "      <td>1004</td>\n",
              "      <td>5</td>\n",
              "    </tr>\n",
              "    <tr>\n",
              "      <th>86</th>\n",
              "      <td>Fortaleza</td>\n",
              "      <td>2019-01-01</td>\n",
              "      <td>42.11</td>\n",
              "      <td>1004</td>\n",
              "      <td>3</td>\n",
              "    </tr>\n",
              "    <tr>\n",
              "      <th>88</th>\n",
              "      <td>Fortaleza</td>\n",
              "      <td>2019-01-01</td>\n",
              "      <td>68.60</td>\n",
              "      <td>1004</td>\n",
              "      <td>6</td>\n",
              "    </tr>\n",
              "    <tr>\n",
              "      <th>89</th>\n",
              "      <td>Fortaleza</td>\n",
              "      <td>2019-01-01</td>\n",
              "      <td>7.19</td>\n",
              "      <td>1004</td>\n",
              "      <td>5</td>\n",
              "    </tr>\n",
              "    <tr>\n",
              "      <th>96</th>\n",
              "      <td>Fortaleza</td>\n",
              "      <td>2019-01-01</td>\n",
              "      <td>23.31</td>\n",
              "      <td>1004</td>\n",
              "      <td>4</td>\n",
              "    </tr>\n",
              "    <tr>\n",
              "      <th>102</th>\n",
              "      <td>Fortaleza</td>\n",
              "      <td>2019-01-01</td>\n",
              "      <td>13.99</td>\n",
              "      <td>1004</td>\n",
              "      <td>3</td>\n",
              "    </tr>\n",
              "    <tr>\n",
              "      <th>105</th>\n",
              "      <td>Fortaleza</td>\n",
              "      <td>2019-01-01</td>\n",
              "      <td>174.66</td>\n",
              "      <td>1004</td>\n",
              "      <td>1</td>\n",
              "    </tr>\n",
              "    <tr>\n",
              "      <th>107</th>\n",
              "      <td>Fortaleza</td>\n",
              "      <td>2019-01-01</td>\n",
              "      <td>21.90</td>\n",
              "      <td>1004</td>\n",
              "      <td>6</td>\n",
              "    </tr>\n",
              "  </tbody>\n",
              "</table>\n",
              "</div>"
            ],
            "text/plain": [
              "        cidade       data  vendas  id_loja  qtde\n",
              "2    Fortaleza 2019-02-10   35.33     1004     3\n",
              "3    Fortaleza 2019-02-10   20.95     1004     6\n",
              "4    Fortaleza 2019-01-01   14.25     1004     6\n",
              "12   Fortaleza 2019-01-01   80.73     1004     2\n",
              "17   Fortaleza 2019-01-01  166.80     1004     1\n",
              "21   Fortaleza 2019-01-01   40.63     1004     3\n",
              "23   Fortaleza 2019-01-01   85.90     1004     5\n",
              "25   Fortaleza 2019-01-01   80.31     1004     4\n",
              "28   Fortaleza 2019-01-01   34.88     1004     3\n",
              "32   Fortaleza 2019-01-01   43.33     1004     4\n",
              "36   Fortaleza 2019-01-01   36.31     1004     2\n",
              "38   Fortaleza 2019-01-01   35.09     1004     4\n",
              "42   Fortaleza 2019-01-01   38.71     1004     5\n",
              "43   Fortaleza 2019-01-01  191.52     1004     1\n",
              "45   Fortaleza 2019-01-01   39.63     1004     3\n",
              "47   Fortaleza 2019-01-01   13.45     1004     5\n",
              "58   Fortaleza 2019-01-01   38.90     1004     4\n",
              "63   Fortaleza 2019-01-01  118.17     1004     1\n",
              "71   Fortaleza 2019-01-01   41.89     1004     4\n",
              "76   Fortaleza 2019-01-01   38.61     1004     4\n",
              "82   Fortaleza 2019-01-01   14.03     1004     5\n",
              "86   Fortaleza 2019-01-01   42.11     1004     3\n",
              "88   Fortaleza 2019-01-01   68.60     1004     6\n",
              "89   Fortaleza 2019-01-01    7.19     1004     5\n",
              "96   Fortaleza 2019-01-01   23.31     1004     4\n",
              "102  Fortaleza 2019-01-01   13.99     1004     3\n",
              "105  Fortaleza 2019-01-01  174.66     1004     1\n",
              "107  Fortaleza 2019-01-01   21.90     1004     6"
            ]
          },
          "metadata": {
            "tags": []
          },
          "execution_count": 290
        }
      ]
    },
    {
      "cell_type": "markdown",
      "metadata": {
        "id": "Vr5tc4pjcTGi"
      },
      "source": [
        "*Filtrando as cidades pela quantidade de vendas*"
      ]
    },
    {
      "cell_type": "code",
      "metadata": {
        "colab": {
          "base_uri": "https://localhost:8080/",
          "height": 419
        },
        "id": "JrLr_ewNb_x_",
        "outputId": "accbbbb7-3bf0-45fc-c0a3-2a80e078b2cb"
      },
      "source": [
        "filtro_qtd = df_all_stories.qtde < 4\n",
        "df_all_stories.loc[filtro_qtd]"
      ],
      "execution_count": 291,
      "outputs": [
        {
          "output_type": "execute_result",
          "data": {
            "text/html": [
              "<div>\n",
              "<style scoped>\n",
              "    .dataframe tbody tr th:only-of-type {\n",
              "        vertical-align: middle;\n",
              "    }\n",
              "\n",
              "    .dataframe tbody tr th {\n",
              "        vertical-align: top;\n",
              "    }\n",
              "\n",
              "    .dataframe thead th {\n",
              "        text-align: right;\n",
              "    }\n",
              "</style>\n",
              "<table border=\"1\" class=\"dataframe\">\n",
              "  <thead>\n",
              "    <tr style=\"text-align: right;\">\n",
              "      <th></th>\n",
              "      <th>cidade</th>\n",
              "      <th>data</th>\n",
              "      <th>vendas</th>\n",
              "      <th>id_loja</th>\n",
              "      <th>qtde</th>\n",
              "    </tr>\n",
              "  </thead>\n",
              "  <tbody>\n",
              "    <tr>\n",
              "      <th>0</th>\n",
              "      <td>Fortaleza</td>\n",
              "      <td>2019-01-01</td>\n",
              "      <td>45.27</td>\n",
              "      <td>1002</td>\n",
              "      <td>2</td>\n",
              "    </tr>\n",
              "    <tr>\n",
              "      <th>1</th>\n",
              "      <td>Fortaleza</td>\n",
              "      <td>2019-01-01</td>\n",
              "      <td>115.61</td>\n",
              "      <td>1002</td>\n",
              "      <td>3</td>\n",
              "    </tr>\n",
              "    <tr>\n",
              "      <th>2</th>\n",
              "      <td>Fortaleza</td>\n",
              "      <td>2019-02-10</td>\n",
              "      <td>35.33</td>\n",
              "      <td>1004</td>\n",
              "      <td>3</td>\n",
              "    </tr>\n",
              "    <tr>\n",
              "      <th>7</th>\n",
              "      <td>Fortaleza</td>\n",
              "      <td>2019-02-11</td>\n",
              "      <td>35.50</td>\n",
              "      <td>1003</td>\n",
              "      <td>2</td>\n",
              "    </tr>\n",
              "    <tr>\n",
              "      <th>8</th>\n",
              "      <td>Fortaleza</td>\n",
              "      <td>2019-02-11</td>\n",
              "      <td>37.49</td>\n",
              "      <td>1005</td>\n",
              "      <td>1</td>\n",
              "    </tr>\n",
              "    <tr>\n",
              "      <th>...</th>\n",
              "      <td>...</td>\n",
              "      <td>...</td>\n",
              "      <td>...</td>\n",
              "      <td>...</td>\n",
              "      <td>...</td>\n",
              "    </tr>\n",
              "    <tr>\n",
              "      <th>235</th>\n",
              "      <td>Natal</td>\n",
              "      <td>2019-01-03</td>\n",
              "      <td>41.84</td>\n",
              "      <td>1034</td>\n",
              "      <td>1</td>\n",
              "    </tr>\n",
              "    <tr>\n",
              "      <th>236</th>\n",
              "      <td>Natal</td>\n",
              "      <td>2019-01-03</td>\n",
              "      <td>126.29</td>\n",
              "      <td>1035</td>\n",
              "      <td>3</td>\n",
              "    </tr>\n",
              "    <tr>\n",
              "      <th>237</th>\n",
              "      <td>Natal</td>\n",
              "      <td>2019-01-03</td>\n",
              "      <td>38.06</td>\n",
              "      <td>1036</td>\n",
              "      <td>3</td>\n",
              "    </tr>\n",
              "    <tr>\n",
              "      <th>238</th>\n",
              "      <td>Natal</td>\n",
              "      <td>2019-01-03</td>\n",
              "      <td>139.64</td>\n",
              "      <td>1035</td>\n",
              "      <td>1</td>\n",
              "    </tr>\n",
              "    <tr>\n",
              "      <th>239</th>\n",
              "      <td>Natal</td>\n",
              "      <td>2019-01-03</td>\n",
              "      <td>161.41</td>\n",
              "      <td>1037</td>\n",
              "      <td>3</td>\n",
              "    </tr>\n",
              "  </tbody>\n",
              "</table>\n",
              "<p>605 rows × 5 columns</p>\n",
              "</div>"
            ],
            "text/plain": [
              "        cidade       data  vendas  id_loja  qtde\n",
              "0    Fortaleza 2019-01-01   45.27     1002     2\n",
              "1    Fortaleza 2019-01-01  115.61     1002     3\n",
              "2    Fortaleza 2019-02-10   35.33     1004     3\n",
              "7    Fortaleza 2019-02-11   35.50     1003     2\n",
              "8    Fortaleza 2019-02-11   37.49     1005     1\n",
              "..         ...        ...     ...      ...   ...\n",
              "235      Natal 2019-01-03   41.84     1034     1\n",
              "236      Natal 2019-01-03  126.29     1035     3\n",
              "237      Natal 2019-01-03   38.06     1036     3\n",
              "238      Natal 2019-01-03  139.64     1035     1\n",
              "239      Natal 2019-01-03  161.41     1037     3\n",
              "\n",
              "[605 rows x 5 columns]"
            ]
          },
          "metadata": {
            "tags": []
          },
          "execution_count": 291
        }
      ]
    },
    {
      "cell_type": "markdown",
      "metadata": {
        "id": "qsgYAAlyU1qv"
      },
      "source": [
        "*Retornando os dados de uma cidade específica*"
      ]
    },
    {
      "cell_type": "code",
      "metadata": {
        "colab": {
          "base_uri": "https://localhost:8080/",
          "height": 419
        },
        "id": "QPdjBCYVPUef",
        "outputId": "952631a6-ef4d-45da-f691-b8b4ff810f3e"
      },
      "source": [
        "df_all_stories.loc[df_all_stories.cidade == 'Fortaleza']"
      ],
      "execution_count": 292,
      "outputs": [
        {
          "output_type": "execute_result",
          "data": {
            "text/html": [
              "<div>\n",
              "<style scoped>\n",
              "    .dataframe tbody tr th:only-of-type {\n",
              "        vertical-align: middle;\n",
              "    }\n",
              "\n",
              "    .dataframe tbody tr th {\n",
              "        vertical-align: top;\n",
              "    }\n",
              "\n",
              "    .dataframe thead th {\n",
              "        text-align: right;\n",
              "    }\n",
              "</style>\n",
              "<table border=\"1\" class=\"dataframe\">\n",
              "  <thead>\n",
              "    <tr style=\"text-align: right;\">\n",
              "      <th></th>\n",
              "      <th>cidade</th>\n",
              "      <th>data</th>\n",
              "      <th>vendas</th>\n",
              "      <th>id_loja</th>\n",
              "      <th>qtde</th>\n",
              "    </tr>\n",
              "  </thead>\n",
              "  <tbody>\n",
              "    <tr>\n",
              "      <th>0</th>\n",
              "      <td>Fortaleza</td>\n",
              "      <td>2019-01-01</td>\n",
              "      <td>45.27</td>\n",
              "      <td>1002</td>\n",
              "      <td>2</td>\n",
              "    </tr>\n",
              "    <tr>\n",
              "      <th>1</th>\n",
              "      <td>Fortaleza</td>\n",
              "      <td>2019-01-01</td>\n",
              "      <td>115.61</td>\n",
              "      <td>1002</td>\n",
              "      <td>3</td>\n",
              "    </tr>\n",
              "    <tr>\n",
              "      <th>2</th>\n",
              "      <td>Fortaleza</td>\n",
              "      <td>2019-02-10</td>\n",
              "      <td>35.33</td>\n",
              "      <td>1004</td>\n",
              "      <td>3</td>\n",
              "    </tr>\n",
              "    <tr>\n",
              "      <th>3</th>\n",
              "      <td>Fortaleza</td>\n",
              "      <td>2019-02-10</td>\n",
              "      <td>20.95</td>\n",
              "      <td>1004</td>\n",
              "      <td>6</td>\n",
              "    </tr>\n",
              "    <tr>\n",
              "      <th>4</th>\n",
              "      <td>Fortaleza</td>\n",
              "      <td>2019-01-01</td>\n",
              "      <td>14.25</td>\n",
              "      <td>1004</td>\n",
              "      <td>6</td>\n",
              "    </tr>\n",
              "    <tr>\n",
              "      <th>...</th>\n",
              "      <td>...</td>\n",
              "      <td>...</td>\n",
              "      <td>...</td>\n",
              "      <td>...</td>\n",
              "      <td>...</td>\n",
              "    </tr>\n",
              "    <tr>\n",
              "      <th>137</th>\n",
              "      <td>Fortaleza</td>\n",
              "      <td>2019-03-02</td>\n",
              "      <td>51.99</td>\n",
              "      <td>983</td>\n",
              "      <td>3</td>\n",
              "    </tr>\n",
              "    <tr>\n",
              "      <th>138</th>\n",
              "      <td>Fortaleza</td>\n",
              "      <td>2019-03-02</td>\n",
              "      <td>150.38</td>\n",
              "      <td>983</td>\n",
              "      <td>6</td>\n",
              "    </tr>\n",
              "    <tr>\n",
              "      <th>139</th>\n",
              "      <td>Fortaleza</td>\n",
              "      <td>2019-03-02</td>\n",
              "      <td>141.16</td>\n",
              "      <td>980</td>\n",
              "      <td>7</td>\n",
              "    </tr>\n",
              "    <tr>\n",
              "      <th>140</th>\n",
              "      <td>Fortaleza</td>\n",
              "      <td>2019-03-02</td>\n",
              "      <td>166.89</td>\n",
              "      <td>983</td>\n",
              "      <td>5</td>\n",
              "    </tr>\n",
              "    <tr>\n",
              "      <th>141</th>\n",
              "      <td>Fortaleza</td>\n",
              "      <td>2019-03-02</td>\n",
              "      <td>182.75</td>\n",
              "      <td>983</td>\n",
              "      <td>8</td>\n",
              "    </tr>\n",
              "  </tbody>\n",
              "</table>\n",
              "<p>142 rows × 5 columns</p>\n",
              "</div>"
            ],
            "text/plain": [
              "        cidade       data  vendas  id_loja  qtde\n",
              "0    Fortaleza 2019-01-01   45.27     1002     2\n",
              "1    Fortaleza 2019-01-01  115.61     1002     3\n",
              "2    Fortaleza 2019-02-10   35.33     1004     3\n",
              "3    Fortaleza 2019-02-10   20.95     1004     6\n",
              "4    Fortaleza 2019-01-01   14.25     1004     6\n",
              "..         ...        ...     ...      ...   ...\n",
              "137  Fortaleza 2019-03-02   51.99      983     3\n",
              "138  Fortaleza 2019-03-02  150.38      983     6\n",
              "139  Fortaleza 2019-03-02  141.16      980     7\n",
              "140  Fortaleza 2019-03-02  166.89      983     5\n",
              "141  Fortaleza 2019-03-02  182.75      983     8\n",
              "\n",
              "[142 rows x 5 columns]"
            ]
          },
          "metadata": {
            "tags": []
          },
          "execution_count": 292
        }
      ]
    },
    {
      "cell_type": "markdown",
      "metadata": {
        "id": "YTdkcpnbVAoh"
      },
      "source": [
        "*Retornando os dados da cidade, agora do jeito \"pythônico\"*"
      ]
    },
    {
      "cell_type": "code",
      "metadata": {
        "colab": {
          "base_uri": "https://localhost:8080/",
          "height": 419
        },
        "id": "yLLSOgz3VAEp",
        "outputId": "cc89eadc-d6d9-484f-d6c5-a0e2d6ee6170"
      },
      "source": [
        "df_all_stories.loc[lambda df: df.cidade == 'Fortaleza']"
      ],
      "execution_count": 293,
      "outputs": [
        {
          "output_type": "execute_result",
          "data": {
            "text/html": [
              "<div>\n",
              "<style scoped>\n",
              "    .dataframe tbody tr th:only-of-type {\n",
              "        vertical-align: middle;\n",
              "    }\n",
              "\n",
              "    .dataframe tbody tr th {\n",
              "        vertical-align: top;\n",
              "    }\n",
              "\n",
              "    .dataframe thead th {\n",
              "        text-align: right;\n",
              "    }\n",
              "</style>\n",
              "<table border=\"1\" class=\"dataframe\">\n",
              "  <thead>\n",
              "    <tr style=\"text-align: right;\">\n",
              "      <th></th>\n",
              "      <th>cidade</th>\n",
              "      <th>data</th>\n",
              "      <th>vendas</th>\n",
              "      <th>id_loja</th>\n",
              "      <th>qtde</th>\n",
              "    </tr>\n",
              "  </thead>\n",
              "  <tbody>\n",
              "    <tr>\n",
              "      <th>0</th>\n",
              "      <td>Fortaleza</td>\n",
              "      <td>2019-01-01</td>\n",
              "      <td>45.27</td>\n",
              "      <td>1002</td>\n",
              "      <td>2</td>\n",
              "    </tr>\n",
              "    <tr>\n",
              "      <th>1</th>\n",
              "      <td>Fortaleza</td>\n",
              "      <td>2019-01-01</td>\n",
              "      <td>115.61</td>\n",
              "      <td>1002</td>\n",
              "      <td>3</td>\n",
              "    </tr>\n",
              "    <tr>\n",
              "      <th>2</th>\n",
              "      <td>Fortaleza</td>\n",
              "      <td>2019-02-10</td>\n",
              "      <td>35.33</td>\n",
              "      <td>1004</td>\n",
              "      <td>3</td>\n",
              "    </tr>\n",
              "    <tr>\n",
              "      <th>3</th>\n",
              "      <td>Fortaleza</td>\n",
              "      <td>2019-02-10</td>\n",
              "      <td>20.95</td>\n",
              "      <td>1004</td>\n",
              "      <td>6</td>\n",
              "    </tr>\n",
              "    <tr>\n",
              "      <th>4</th>\n",
              "      <td>Fortaleza</td>\n",
              "      <td>2019-01-01</td>\n",
              "      <td>14.25</td>\n",
              "      <td>1004</td>\n",
              "      <td>6</td>\n",
              "    </tr>\n",
              "    <tr>\n",
              "      <th>...</th>\n",
              "      <td>...</td>\n",
              "      <td>...</td>\n",
              "      <td>...</td>\n",
              "      <td>...</td>\n",
              "      <td>...</td>\n",
              "    </tr>\n",
              "    <tr>\n",
              "      <th>137</th>\n",
              "      <td>Fortaleza</td>\n",
              "      <td>2019-03-02</td>\n",
              "      <td>51.99</td>\n",
              "      <td>983</td>\n",
              "      <td>3</td>\n",
              "    </tr>\n",
              "    <tr>\n",
              "      <th>138</th>\n",
              "      <td>Fortaleza</td>\n",
              "      <td>2019-03-02</td>\n",
              "      <td>150.38</td>\n",
              "      <td>983</td>\n",
              "      <td>6</td>\n",
              "    </tr>\n",
              "    <tr>\n",
              "      <th>139</th>\n",
              "      <td>Fortaleza</td>\n",
              "      <td>2019-03-02</td>\n",
              "      <td>141.16</td>\n",
              "      <td>980</td>\n",
              "      <td>7</td>\n",
              "    </tr>\n",
              "    <tr>\n",
              "      <th>140</th>\n",
              "      <td>Fortaleza</td>\n",
              "      <td>2019-03-02</td>\n",
              "      <td>166.89</td>\n",
              "      <td>983</td>\n",
              "      <td>5</td>\n",
              "    </tr>\n",
              "    <tr>\n",
              "      <th>141</th>\n",
              "      <td>Fortaleza</td>\n",
              "      <td>2019-03-02</td>\n",
              "      <td>182.75</td>\n",
              "      <td>983</td>\n",
              "      <td>8</td>\n",
              "    </tr>\n",
              "  </tbody>\n",
              "</table>\n",
              "<p>142 rows × 5 columns</p>\n",
              "</div>"
            ],
            "text/plain": [
              "        cidade       data  vendas  id_loja  qtde\n",
              "0    Fortaleza 2019-01-01   45.27     1002     2\n",
              "1    Fortaleza 2019-01-01  115.61     1002     3\n",
              "2    Fortaleza 2019-02-10   35.33     1004     3\n",
              "3    Fortaleza 2019-02-10   20.95     1004     6\n",
              "4    Fortaleza 2019-01-01   14.25     1004     6\n",
              "..         ...        ...     ...      ...   ...\n",
              "137  Fortaleza 2019-03-02   51.99      983     3\n",
              "138  Fortaleza 2019-03-02  150.38      983     6\n",
              "139  Fortaleza 2019-03-02  141.16      980     7\n",
              "140  Fortaleza 2019-03-02  166.89      983     5\n",
              "141  Fortaleza 2019-03-02  182.75      983     8\n",
              "\n",
              "[142 rows x 5 columns]"
            ]
          },
          "metadata": {
            "tags": []
          },
          "execution_count": 293
        }
      ]
    },
    {
      "cell_type": "markdown",
      "metadata": {
        "id": "2UkANRPfd5Qo"
      },
      "source": [
        "*Retornando os dados do indice 0 ao 19*"
      ]
    },
    {
      "cell_type": "code",
      "metadata": {
        "colab": {
          "base_uri": "https://localhost:8080/",
          "height": 669
        },
        "id": "kaQL69gWc8g9",
        "outputId": "799c3a43-cf87-49e3-9072-a521463dd121"
      },
      "source": [
        "\n",
        "df_all_stories.iloc[0:20]"
      ],
      "execution_count": 294,
      "outputs": [
        {
          "output_type": "execute_result",
          "data": {
            "text/html": [
              "<div>\n",
              "<style scoped>\n",
              "    .dataframe tbody tr th:only-of-type {\n",
              "        vertical-align: middle;\n",
              "    }\n",
              "\n",
              "    .dataframe tbody tr th {\n",
              "        vertical-align: top;\n",
              "    }\n",
              "\n",
              "    .dataframe thead th {\n",
              "        text-align: right;\n",
              "    }\n",
              "</style>\n",
              "<table border=\"1\" class=\"dataframe\">\n",
              "  <thead>\n",
              "    <tr style=\"text-align: right;\">\n",
              "      <th></th>\n",
              "      <th>cidade</th>\n",
              "      <th>data</th>\n",
              "      <th>vendas</th>\n",
              "      <th>id_loja</th>\n",
              "      <th>qtde</th>\n",
              "    </tr>\n",
              "  </thead>\n",
              "  <tbody>\n",
              "    <tr>\n",
              "      <th>0</th>\n",
              "      <td>Fortaleza</td>\n",
              "      <td>2019-01-01</td>\n",
              "      <td>45.27</td>\n",
              "      <td>1002</td>\n",
              "      <td>2</td>\n",
              "    </tr>\n",
              "    <tr>\n",
              "      <th>1</th>\n",
              "      <td>Fortaleza</td>\n",
              "      <td>2019-01-01</td>\n",
              "      <td>115.61</td>\n",
              "      <td>1002</td>\n",
              "      <td>3</td>\n",
              "    </tr>\n",
              "    <tr>\n",
              "      <th>2</th>\n",
              "      <td>Fortaleza</td>\n",
              "      <td>2019-02-10</td>\n",
              "      <td>35.33</td>\n",
              "      <td>1004</td>\n",
              "      <td>3</td>\n",
              "    </tr>\n",
              "    <tr>\n",
              "      <th>3</th>\n",
              "      <td>Fortaleza</td>\n",
              "      <td>2019-02-10</td>\n",
              "      <td>20.95</td>\n",
              "      <td>1004</td>\n",
              "      <td>6</td>\n",
              "    </tr>\n",
              "    <tr>\n",
              "      <th>4</th>\n",
              "      <td>Fortaleza</td>\n",
              "      <td>2019-01-01</td>\n",
              "      <td>14.25</td>\n",
              "      <td>1004</td>\n",
              "      <td>6</td>\n",
              "    </tr>\n",
              "    <tr>\n",
              "      <th>5</th>\n",
              "      <td>Fortaleza</td>\n",
              "      <td>2019-01-01</td>\n",
              "      <td>37.30</td>\n",
              "      <td>1002</td>\n",
              "      <td>5</td>\n",
              "    </tr>\n",
              "    <tr>\n",
              "      <th>6</th>\n",
              "      <td>Fortaleza</td>\n",
              "      <td>2019-01-01</td>\n",
              "      <td>38.40</td>\n",
              "      <td>1003</td>\n",
              "      <td>4</td>\n",
              "    </tr>\n",
              "    <tr>\n",
              "      <th>7</th>\n",
              "      <td>Fortaleza</td>\n",
              "      <td>2019-02-11</td>\n",
              "      <td>35.50</td>\n",
              "      <td>1003</td>\n",
              "      <td>2</td>\n",
              "    </tr>\n",
              "    <tr>\n",
              "      <th>8</th>\n",
              "      <td>Fortaleza</td>\n",
              "      <td>2019-02-11</td>\n",
              "      <td>37.49</td>\n",
              "      <td>1005</td>\n",
              "      <td>1</td>\n",
              "    </tr>\n",
              "    <tr>\n",
              "      <th>9</th>\n",
              "      <td>Fortaleza</td>\n",
              "      <td>2019-01-01</td>\n",
              "      <td>11.17</td>\n",
              "      <td>1002</td>\n",
              "      <td>6</td>\n",
              "    </tr>\n",
              "    <tr>\n",
              "      <th>10</th>\n",
              "      <td>Fortaleza</td>\n",
              "      <td>2019-01-01</td>\n",
              "      <td>179.88</td>\n",
              "      <td>1002</td>\n",
              "      <td>4</td>\n",
              "    </tr>\n",
              "    <tr>\n",
              "      <th>11</th>\n",
              "      <td>Fortaleza</td>\n",
              "      <td>2019-01-01</td>\n",
              "      <td>42.19</td>\n",
              "      <td>1003</td>\n",
              "      <td>3</td>\n",
              "    </tr>\n",
              "    <tr>\n",
              "      <th>12</th>\n",
              "      <td>Fortaleza</td>\n",
              "      <td>2019-01-01</td>\n",
              "      <td>80.73</td>\n",
              "      <td>1004</td>\n",
              "      <td>2</td>\n",
              "    </tr>\n",
              "    <tr>\n",
              "      <th>13</th>\n",
              "      <td>Fortaleza</td>\n",
              "      <td>2019-02-12</td>\n",
              "      <td>118.58</td>\n",
              "      <td>1003</td>\n",
              "      <td>4</td>\n",
              "    </tr>\n",
              "    <tr>\n",
              "      <th>14</th>\n",
              "      <td>Fortaleza</td>\n",
              "      <td>2019-01-12</td>\n",
              "      <td>132.68</td>\n",
              "      <td>1005</td>\n",
              "      <td>1</td>\n",
              "    </tr>\n",
              "    <tr>\n",
              "      <th>15</th>\n",
              "      <td>Fortaleza</td>\n",
              "      <td>2019-01-01</td>\n",
              "      <td>195.05</td>\n",
              "      <td>1002</td>\n",
              "      <td>2</td>\n",
              "    </tr>\n",
              "    <tr>\n",
              "      <th>16</th>\n",
              "      <td>Fortaleza</td>\n",
              "      <td>2019-01-01</td>\n",
              "      <td>97.32</td>\n",
              "      <td>1002</td>\n",
              "      <td>5</td>\n",
              "    </tr>\n",
              "    <tr>\n",
              "      <th>17</th>\n",
              "      <td>Fortaleza</td>\n",
              "      <td>2019-01-01</td>\n",
              "      <td>166.80</td>\n",
              "      <td>1004</td>\n",
              "      <td>1</td>\n",
              "    </tr>\n",
              "    <tr>\n",
              "      <th>18</th>\n",
              "      <td>Fortaleza</td>\n",
              "      <td>2019-01-01</td>\n",
              "      <td>38.31</td>\n",
              "      <td>1002</td>\n",
              "      <td>3</td>\n",
              "    </tr>\n",
              "    <tr>\n",
              "      <th>19</th>\n",
              "      <td>Fortaleza</td>\n",
              "      <td>2019-01-01</td>\n",
              "      <td>18.86</td>\n",
              "      <td>1002</td>\n",
              "      <td>3</td>\n",
              "    </tr>\n",
              "  </tbody>\n",
              "</table>\n",
              "</div>"
            ],
            "text/plain": [
              "       cidade       data  vendas  id_loja  qtde\n",
              "0   Fortaleza 2019-01-01   45.27     1002     2\n",
              "1   Fortaleza 2019-01-01  115.61     1002     3\n",
              "2   Fortaleza 2019-02-10   35.33     1004     3\n",
              "3   Fortaleza 2019-02-10   20.95     1004     6\n",
              "4   Fortaleza 2019-01-01   14.25     1004     6\n",
              "5   Fortaleza 2019-01-01   37.30     1002     5\n",
              "6   Fortaleza 2019-01-01   38.40     1003     4\n",
              "7   Fortaleza 2019-02-11   35.50     1003     2\n",
              "8   Fortaleza 2019-02-11   37.49     1005     1\n",
              "9   Fortaleza 2019-01-01   11.17     1002     6\n",
              "10  Fortaleza 2019-01-01  179.88     1002     4\n",
              "11  Fortaleza 2019-01-01   42.19     1003     3\n",
              "12  Fortaleza 2019-01-01   80.73     1004     2\n",
              "13  Fortaleza 2019-02-12  118.58     1003     4\n",
              "14  Fortaleza 2019-01-12  132.68     1005     1\n",
              "15  Fortaleza 2019-01-01  195.05     1002     2\n",
              "16  Fortaleza 2019-01-01   97.32     1002     5\n",
              "17  Fortaleza 2019-01-01  166.80     1004     1\n",
              "18  Fortaleza 2019-01-01   38.31     1002     3\n",
              "19  Fortaleza 2019-01-01   18.86     1002     3"
            ]
          },
          "metadata": {
            "tags": []
          },
          "execution_count": 294
        }
      ]
    },
    {
      "cell_type": "code",
      "metadata": {
        "colab": {
          "base_uri": "https://localhost:8080/"
        },
        "id": "f4Cy2yrAeSfJ",
        "outputId": "e42d8324-39a9-411d-ed33-df416e0e001e"
      },
      "source": [
        "df_all_stories['vendas'].describe()"
      ],
      "execution_count": 295,
      "outputs": [
        {
          "output_type": "execute_result",
          "data": {
            "text/plain": [
              "count    894.000000\n",
              "mean     122.611801\n",
              "std      166.818723\n",
              "min        3.010000\n",
              "25%       22.380000\n",
              "50%       44.000000\n",
              "75%      160.925000\n",
              "max      886.000000\n",
              "Name: vendas, dtype: float64"
            ]
          },
          "metadata": {
            "tags": []
          },
          "execution_count": 295
        }
      ]
    },
    {
      "cell_type": "code",
      "metadata": {
        "colab": {
          "base_uri": "https://localhost:8080/"
        },
        "id": "rxVstR-SogEM",
        "outputId": "fc914ef0-6ef1-4ac3-b3f8-1091e293ae75"
      },
      "source": [
        "df_all_stories.groupby('cidade')['qtde'].sum()"
      ],
      "execution_count": 299,
      "outputs": [
        {
          "output_type": "execute_result",
          "data": {
            "text/plain": [
              "cidade\n",
              "Aracaju      674\n",
              "Fortaleza    550\n",
              "Natal        549\n",
              "Recife       667\n",
              "Salvador     476\n",
              "Name: qtde, dtype: int64"
            ]
          },
          "metadata": {
            "tags": []
          },
          "execution_count": 299
        }
      ]
    },
    {
      "cell_type": "markdown",
      "metadata": {
        "id": "1PyeryI_9cFI"
      },
      "source": [
        "Obtendo o valor total das vendas de cada loja agrupada por id_loja"
      ]
    },
    {
      "cell_type": "code",
      "metadata": {
        "colab": {
          "base_uri": "https://localhost:8080/",
          "height": 638
        },
        "id": "2P2TLK7jpO5q",
        "outputId": "c2fffb22-1d71-4d09-e5fc-9bcc6a4c47eb"
      },
      "source": [
        "df_all_stories.groupby('id_loja')['vendas'].sum().reset_index()"
      ],
      "execution_count": 415,
      "outputs": [
        {
          "output_type": "execute_result",
          "data": {
            "text/html": [
              "<div>\n",
              "<style scoped>\n",
              "    .dataframe tbody tr th:only-of-type {\n",
              "        vertical-align: middle;\n",
              "    }\n",
              "\n",
              "    .dataframe tbody tr th {\n",
              "        vertical-align: top;\n",
              "    }\n",
              "\n",
              "    .dataframe thead th {\n",
              "        text-align: right;\n",
              "    }\n",
              "</style>\n",
              "<table border=\"1\" class=\"dataframe\">\n",
              "  <thead>\n",
              "    <tr style=\"text-align: right;\">\n",
              "      <th></th>\n",
              "      <th>id_loja</th>\n",
              "      <th>vendas</th>\n",
              "    </tr>\n",
              "  </thead>\n",
              "  <tbody>\n",
              "    <tr>\n",
              "      <th>0</th>\n",
              "      <td>852</td>\n",
              "      <td>16304.00</td>\n",
              "    </tr>\n",
              "    <tr>\n",
              "      <th>1</th>\n",
              "      <td>853</td>\n",
              "      <td>15121.00</td>\n",
              "    </tr>\n",
              "    <tr>\n",
              "      <th>2</th>\n",
              "      <td>854</td>\n",
              "      <td>15360.00</td>\n",
              "    </tr>\n",
              "    <tr>\n",
              "      <th>3</th>\n",
              "      <td>980</td>\n",
              "      <td>2823.31</td>\n",
              "    </tr>\n",
              "    <tr>\n",
              "      <th>4</th>\n",
              "      <td>981</td>\n",
              "      <td>2531.25</td>\n",
              "    </tr>\n",
              "    <tr>\n",
              "      <th>5</th>\n",
              "      <td>982</td>\n",
              "      <td>3296.52</td>\n",
              "    </tr>\n",
              "    <tr>\n",
              "      <th>6</th>\n",
              "      <td>983</td>\n",
              "      <td>5010.18</td>\n",
              "    </tr>\n",
              "    <tr>\n",
              "      <th>7</th>\n",
              "      <td>1002</td>\n",
              "      <td>2098.04</td>\n",
              "    </tr>\n",
              "    <tr>\n",
              "      <th>8</th>\n",
              "      <td>1003</td>\n",
              "      <td>1635.94</td>\n",
              "    </tr>\n",
              "    <tr>\n",
              "      <th>9</th>\n",
              "      <td>1004</td>\n",
              "      <td>1561.18</td>\n",
              "    </tr>\n",
              "    <tr>\n",
              "      <th>10</th>\n",
              "      <td>1005</td>\n",
              "      <td>2283.39</td>\n",
              "    </tr>\n",
              "    <tr>\n",
              "      <th>11</th>\n",
              "      <td>1034</td>\n",
              "      <td>4206.97</td>\n",
              "    </tr>\n",
              "    <tr>\n",
              "      <th>12</th>\n",
              "      <td>1035</td>\n",
              "      <td>9511.02</td>\n",
              "    </tr>\n",
              "    <tr>\n",
              "      <th>13</th>\n",
              "      <td>1036</td>\n",
              "      <td>10416.46</td>\n",
              "    </tr>\n",
              "    <tr>\n",
              "      <th>14</th>\n",
              "      <td>1037</td>\n",
              "      <td>7982.71</td>\n",
              "    </tr>\n",
              "    <tr>\n",
              "      <th>15</th>\n",
              "      <td>1520</td>\n",
              "      <td>2623.57</td>\n",
              "    </tr>\n",
              "    <tr>\n",
              "      <th>16</th>\n",
              "      <td>1521</td>\n",
              "      <td>1913.16</td>\n",
              "    </tr>\n",
              "    <tr>\n",
              "      <th>17</th>\n",
              "      <td>1522</td>\n",
              "      <td>2694.82</td>\n",
              "    </tr>\n",
              "    <tr>\n",
              "      <th>18</th>\n",
              "      <td>1523</td>\n",
              "      <td>2241.43</td>\n",
              "    </tr>\n",
              "  </tbody>\n",
              "</table>\n",
              "</div>"
            ],
            "text/plain": [
              "    id_loja    vendas\n",
              "0       852  16304.00\n",
              "1       853  15121.00\n",
              "2       854  15360.00\n",
              "3       980   2823.31\n",
              "4       981   2531.25\n",
              "5       982   3296.52\n",
              "6       983   5010.18\n",
              "7      1002   2098.04\n",
              "8      1003   1635.94\n",
              "9      1004   1561.18\n",
              "10     1005   2283.39\n",
              "11     1034   4206.97\n",
              "12     1035   9511.02\n",
              "13     1036  10416.46\n",
              "14     1037   7982.71\n",
              "15     1520   2623.57\n",
              "16     1521   1913.16\n",
              "17     1522   2694.82\n",
              "18     1523   2241.43"
            ]
          },
          "metadata": {
            "tags": []
          },
          "execution_count": 415
        }
      ]
    },
    {
      "cell_type": "code",
      "metadata": {
        "colab": {
          "base_uri": "https://localhost:8080/",
          "height": 376
        },
        "id": "YcQOSwIz9vE6",
        "outputId": "fb1984c9-9779-40f9-d030-81aef9a89aab"
      },
      "source": [
        "df_all_stories.groupby('id_loja')['vendas'].sum().plot.bar(title='loja x lucro')\n",
        "plt.xticks(rotation='horizontal')\n",
        "plt.xlabel('loja')\n",
        "plt.ylabel('venda total');"
      ],
      "execution_count": 422,
      "outputs": [
        {
          "output_type": "display_data",
          "data": {
            "image/png": "[encoded data removed]",
            "text/plain": [
              "<Figure size 576x396 with 1 Axes>"
            ]
          },
          "metadata": {
            "tags": []
          }
        }
      ]
    }
  ]
}